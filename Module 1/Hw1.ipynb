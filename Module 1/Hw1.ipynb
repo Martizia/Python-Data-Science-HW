{
 "cells": [
  {
   "cell_type": "code",
   "execution_count": 1,
   "id": "98cb0de6-fef1-40e6-85dd-6f73343a7458",
   "metadata": {},
   "outputs": [],
   "source": [
    "import numpy as np"
   ]
  },
  {
   "cell_type": "code",
   "execution_count": null,
   "id": "4bb06e04-c3f1-41fc-ad95-ebcd483dcbb5",
   "metadata": {},
   "outputs": [
    {
     "name": "stdout",
     "output_type": "stream",
     "text": [
      "[ 1  2  3  4  5  6  7  8  9 10]\n"
     ]
    }
   ],
   "source": [
    "# 1. Створіть одновимірний масив (вектор) з першими 10-ма натуральними числами та виведіть його значення.\n",
    "\n",
    "vector1 = np.array([1,2,3,4,5,6,7,8,9,10])\n",
    "vector1"
   ]
  },
  {
   "cell_type": "code",
   "execution_count": 3,
   "id": "b16297b7-e6d7-4a64-a6a9-c640f834b44c",
   "metadata": {},
   "outputs": [
    {
     "name": "stdout",
     "output_type": "stream",
     "text": [
      "[[0 0 0]\n",
      " [0 0 0]\n",
      " [0 0 0]]\n"
     ]
    }
   ],
   "source": [
    "# 2. Створіть двовимірний масив (матрицю) розміром 3x3, заповніть його нулями та виведіть його значення.\n",
    "\n",
    "zeros = np.zeros((3, 3), dtype=int)\n",
    "print(zeros)"
   ]
  },
  {
   "cell_type": "code",
   "execution_count": 4,
   "id": "107b7688-a213-470e-afec-b70967fc9ccc",
   "metadata": {},
   "outputs": [
    {
     "name": "stdout",
     "output_type": "stream",
     "text": [
      "[[ 2 10  8  1  9]\n",
      " [ 3  4  4  9  5]\n",
      " [ 8  5  6  8  3]\n",
      " [ 9  2  8  9  2]\n",
      " [ 5  4 10  3  5]]\n"
     ]
    }
   ],
   "source": [
    "# 3. Створіть масив розміром 5x5, заповніть його випадковими цілими числами в діапазоні від 1 до 10 та виведіть його значення.\n",
    "\n",
    "matrix3 = np.random.randint(1, 11, size=(5, 5))  \n",
    "print(matrix3)"
   ]
  },
  {
   "cell_type": "code",
   "execution_count": 5,
   "id": "edb3dea5-8f51-4f95-95a2-f1990592ee03",
   "metadata": {},
   "outputs": [
    {
     "name": "stdout",
     "output_type": "stream",
     "text": [
      "[[0.84256137 0.37261267 0.33861396 0.76991978]\n",
      " [0.87179766 0.38842955 0.77834614 0.12590704]\n",
      " [0.15663129 0.53705346 0.60036838 0.82400437]\n",
      " [0.5903268  0.63809357 0.1704145  0.74101857]]\n"
     ]
    }
   ],
   "source": [
    "# 4. Створіть масив розміром 4x4, заповніть його випадковими дійсними числами в діапазоні від 0 до 1 та виведіть його значення.\n",
    "\n",
    "matrix4 = np.random.rand(4, 4)\n",
    "print(matrix4)"
   ]
  },
  {
   "cell_type": "code",
   "execution_count": 6,
   "id": "2a280697-08ad-4fe4-bbf6-e0468722b23c",
   "metadata": {},
   "outputs": [
    {
     "name": "stdout",
     "output_type": "stream",
     "text": [
      "[8 7 2 1 9]\n",
      "[1 8 8 9 4]\n",
      "[ 9 15 10 10 13]\n",
      "[ 7 -1 -6 -8  5]\n",
      "[ 8 56 16  9 36]\n"
     ]
    }
   ],
   "source": [
    "# 5. Створіть два одновимірних масиви розміром 5, заповніть їх випадковими цілими числами в діапазоні від 1 до 10 \n",
    "# та виконайте на них поелементні операції додавання, віднімання та множення.\n",
    "\n",
    "vector5_1 = np.random.randint(1, 11, size=5)\n",
    "vector5_2 = np.random.randint(1, 11, size=5)\n",
    "print(vector5_1)\n",
    "print(vector5_2)\n",
    "print(vector5_1 + vector5_2)\n",
    "print(vector5_1 - vector5_2)\n",
    "print(vector5_1 * vector5_2)"
   ]
  },
  {
   "cell_type": "code",
   "execution_count": 7,
   "id": "e7baf969-3ebd-4837-b3e6-0d6922d82161",
   "metadata": {},
   "outputs": [
    {
     "name": "stdout",
     "output_type": "stream",
     "text": [
      "[6 9 6 2 9 5 8]\n",
      "[10  5  3  7  7  3  1]\n",
      "223\n"
     ]
    }
   ],
   "source": [
    "# 6. Створіть два вектори розміром 7, заповніть довільними числами та знайдіть їх скалярний добуток.\n",
    "\n",
    "vector6_1 = np.random.randint(1, 11, size=7)\n",
    "vector6_2 = np.random.randint(1, 11, size=7)\n",
    "print(vector6_1)\n",
    "print(vector6_2)\n",
    "print(np.dot(vector6_1, vector6_2))"
   ]
  },
  {
   "cell_type": "code",
   "execution_count": 8,
   "id": "a1f14d9e-dac3-4c59-8b5f-35202ff1f797",
   "metadata": {},
   "outputs": [
    {
     "name": "stdout",
     "output_type": "stream",
     "text": [
      "[[3 6]\n",
      " [2 6]]\n",
      "[[5 4 3]\n",
      " [2 7 1]]\n",
      "[[27 54 15]\n",
      " [22 50 12]]\n"
     ]
    }
   ],
   "source": [
    "# 7. Створіть дві матриці розміром 2x2 та 2x3, заповніть їх випадковими цілими числами в діапазоні від 1 до 10 та перемножте їх між собою.\n",
    "\n",
    "matrix7_1 = np.random.randint(1, 11, size=(2, 2)) \n",
    "matrix7_2 = np.random.randint(1, 11, size=(2, 3)) \n",
    "print(matrix7_1)\n",
    "print(matrix7_2)\n",
    "print(np.dot(matrix7_1, matrix7_2))"
   ]
  },
  {
   "cell_type": "code",
   "execution_count": 9,
   "id": "f450340c-8dce-47eb-8003-22aac4e326b5",
   "metadata": {},
   "outputs": [
    {
     "name": "stdout",
     "output_type": "stream",
     "text": [
      "[[ 2  5 10]\n",
      " [ 9  6  3]\n",
      " [10  9  7]]\n",
      "[[ 0.2         0.73333333 -0.6       ]\n",
      " [-0.44       -1.14666667  1.12      ]\n",
      " [ 0.28        0.42666667 -0.44      ]]\n"
     ]
    }
   ],
   "source": [
    "# 8. Створіть матрицю розміром 3x3, заповніть її випадковими цілими числами в діапазоні від 1 до 10 та знайдіть її обернену матрицю.\n",
    "\n",
    "matrix8 = np.random.randint(1, 11, size=(3, 3)) \n",
    "print(matrix8)\n",
    "inv1 = np.linalg.inv(matrix8)\n",
    "print(inv1)"
   ]
  },
  {
   "cell_type": "code",
   "execution_count": 10,
   "id": "289350a6-af24-4e4b-87da-289c4755a0ab",
   "metadata": {},
   "outputs": [
    {
     "name": "stdout",
     "output_type": "stream",
     "text": [
      "[[0.9237445  0.44473454 0.6929727  0.48968569]\n",
      " [0.76946969 0.59250703 0.90151228 0.77976741]\n",
      " [0.32499101 0.91539784 0.47504189 0.15030291]\n",
      " [0.08423072 0.46015591 0.68338195 0.64695293]]\n",
      "[[ -1.64554657   3.6032373    0.02744011  -3.10379725]\n",
      " [ -6.05530153   7.05152508   1.62872758  -4.29421881]\n",
      " [ 17.06818789 -21.50533454  -1.02820039  13.23999437]\n",
      " [-13.50809744  17.23162967  -0.07593493  -8.98137671]]\n"
     ]
    }
   ],
   "source": [
    "# 9. Створіть матрицю розміром 4x4, заповніть її випадковими дійсними числами в діапазоні від 0 до 1 та транспонуйте її.\n",
    "\n",
    "matrix9 = np.random.rand(4, 4)\n",
    "print(matrix9)\n",
    "inv2 = np.linalg.inv(matrix9)\n",
    "print(inv2)"
   ]
  },
  {
   "cell_type": "code",
   "execution_count": 11,
   "id": "432921bf-01db-477a-a03f-8db6250efcd7",
   "metadata": {},
   "outputs": [
    {
     "name": "stdout",
     "output_type": "stream",
     "text": [
      "[[ 8  5  5 10]\n",
      " [ 5  8  6 10]\n",
      " [ 6  7  3  4]]\n",
      "[2 8 8 5]\n",
      "[146 172 112]\n"
     ]
    }
   ],
   "source": [
    "# 10. Створіть матрицю розміром 3x4 та вектор розміром 4, заповніть їх випадковими цілими числами \n",
    "# в діапазоні від 1 до 10 та перемножте матрицю на вектор.\n",
    "\n",
    "matrix10 = np.random.randint(1, 11, size=(3, 4)) \n",
    "vector10 = np.random.randint(1, 11, size=4)\n",
    "print(matrix10)\n",
    "print(vector10)\n",
    "print(np.dot(matrix10, vector10))"
   ]
  },
  {
   "cell_type": "code",
   "execution_count": 12,
   "id": "1dd7c135-db51-43fa-b09c-866635c16507",
   "metadata": {
    "scrolled": true
   },
   "outputs": [
    {
     "name": "stdout",
     "output_type": "stream",
     "text": [
      "[[0.6924777  0.98892141 0.47969279]\n",
      " [0.84733556 0.44434822 0.19226538]]\n",
      "[0.21591618 0.87531315 0.55649311]\n",
      "[1.28207879 0.67889165]\n"
     ]
    }
   ],
   "source": [
    "# 11. Створіть матрицю розміром 2x3 та вектор розміром 3, заповніть їх випадковими дійсними числами \n",
    "# в діапазоні від 0 до 1 та перемножте матрицю на вектор.\n",
    "\n",
    "matrix11 = np.random.rand(2, 3)\n",
    "vector11 = np.random.rand(3)\n",
    "print(matrix11)\n",
    "print(vector11)\n",
    "print(np.dot(matrix11, vector11))"
   ]
  },
  {
   "cell_type": "code",
   "execution_count": 13,
   "id": "d7e860fc-a0db-4574-b447-c158cc5b4c11",
   "metadata": {},
   "outputs": [
    {
     "name": "stdout",
     "output_type": "stream",
     "text": [
      "[[ 7 10]\n",
      " [ 3  2]]\n",
      "[[3 5]\n",
      " [8 3]]\n",
      "[[21 50]\n",
      " [24  6]]\n"
     ]
    }
   ],
   "source": [
    "# 12. Створіть дві матриці розміром 2x2, заповніть їх випадковими цілими числами в діапазоні від 1 до 10 \n",
    "# та виконайте їхнє поелементне множення.\n",
    "\n",
    "matrix12_1 = np.random.randint(1, 11, size=(2, 2))\n",
    "matrix12_2 = np.random.randint(1, 11, size=(2, 2))\n",
    "print(matrix12_1)\n",
    "print(matrix12_2)\n",
    "print(matrix12_1 * matrix12_2)"
   ]
  },
  {
   "cell_type": "code",
   "execution_count": 14,
   "id": "2dbd4236-c633-4cc4-9637-b0f6fc20174b",
   "metadata": {},
   "outputs": [
    {
     "name": "stdout",
     "output_type": "stream",
     "text": [
      "[[7 2]\n",
      " [2 2]]\n",
      "[[8 9]\n",
      " [7 8]]\n",
      "[[15 11]\n",
      " [ 9 10]]\n"
     ]
    }
   ],
   "source": [
    "# 13. Створіть дві матриці розміром 2x2, заповніть їх випадковими цілими числами в діапазоні від 1 до 10 та знайдіть їх добуток.\n",
    "\n",
    "matrix13_1 = np.random.randint(1, 11, size=(2, 2))\n",
    "matrix13_2 = np.random.randint(1, 11, size=(2, 2))\n",
    "print(matrix13_1)\n",
    "print(matrix13_2)\n",
    "print(matrix13_1 + matrix13_2)"
   ]
  },
  {
   "cell_type": "code",
   "execution_count": 15,
   "id": "078ae2be-961e-46ba-82e0-0eeb876e0a85",
   "metadata": {},
   "outputs": [
    {
     "name": "stdout",
     "output_type": "stream",
     "text": [
      "[[59 44 14  7 47]\n",
      " [97 87  8 55 86]\n",
      " [27 13 36 40 77]\n",
      " [21 79 61 31  4]\n",
      " [68 72 10  9 41]]\n",
      "1093\n"
     ]
    }
   ],
   "source": [
    "# 14. Створіть матрицю розміром 5x5, заповніть її випадковими цілими числами в діапазоні від 1 до 100 та знайдіть суму елементів матриці.\n",
    "\n",
    "matrix14 = np.random.randint(1, 101, size=(5, 5))\n",
    "print(matrix14)\n",
    "print(matrix14.sum())"
   ]
  },
  {
   "cell_type": "code",
   "execution_count": 16,
   "id": "c5bfa0b3-cf4a-4718-a78e-dba6241a8335",
   "metadata": {},
   "outputs": [
    {
     "name": "stdout",
     "output_type": "stream",
     "text": [
      "[[ 4 10  3  3]\n",
      " [ 5  3  5  8]\n",
      " [ 8  1  5  7]\n",
      " [ 6 10 10  5]]\n",
      "[[ 1  2  7  1]\n",
      " [ 9  4  5 10]\n",
      " [ 7  1  4  7]\n",
      " [ 9  1  3  4]]\n",
      "[[ 3  8 -4  2]\n",
      " [-4 -1  0 -2]\n",
      " [ 1  0  1  0]\n",
      " [-3  9  7  1]]\n"
     ]
    }
   ],
   "source": [
    "# 15. Створіть дві матриці розміром 4x4, заповніть їх випадковими цілими числами в діапазоні від 1 до 10 та знайдіть їхню різницю.\n",
    "\n",
    "matrix15_1 = np.random.randint(1, 11, size=(4, 4))\n",
    "matrix15_2 = np.random.randint(1, 11, size=(4, 4))\n",
    "print(matrix15_1)\n",
    "print(matrix15_2)\n",
    "print(matrix15_1 - matrix15_2)"
   ]
  },
  {
   "cell_type": "code",
   "execution_count": 17,
   "id": "ef10aa65-46f9-418b-88c4-1359badeeb15",
   "metadata": {},
   "outputs": [
    {
     "name": "stdout",
     "output_type": "stream",
     "text": [
      "[[0.72729033 0.21873761 0.71787039]\n",
      " [0.13072037 0.81618839 0.87937237]\n",
      " [0.77815616 0.79503875 0.80943404]]\n",
      "[1.66389833 1.82628113 2.38262895]\n"
     ]
    }
   ],
   "source": [
    "# 16. Створіть матрицю розміром 3x3, заповніть її випадковими дійсними числами в діапазоні від 0 до 1 \n",
    "# та знайдіть вектор-стовпчик, що містить суму елементів кожного рядка матриці.\n",
    "\n",
    "matrix16 = np.random.rand(3, 3)\n",
    "print(matrix16)\n",
    "print(np.sum(matrix16, axis=1))"
   ]
  },
  {
   "cell_type": "code",
   "execution_count": 18,
   "id": "acb70e08-100a-4b2d-b78d-350166bbe352",
   "metadata": {},
   "outputs": [
    {
     "name": "stdout",
     "output_type": "stream",
     "text": [
      "[[10  1  4  2]\n",
      " [ 6  6  8  1]\n",
      " [ 8  8 10  1]]\n",
      "[[100   1  16   4]\n",
      " [ 36  36  64   1]\n",
      " [ 64  64 100   1]]\n"
     ]
    }
   ],
   "source": [
    "# 17. Створіть матрицю розміром 3x4 з довільними цілими числами і створіть матрицю з квадратами цих чисел.\n",
    "\n",
    "matrix17 = np.random.randint(1, 11, size=(3, 4))\n",
    "print(matrix17)\n",
    "print(np.square(matrix17))"
   ]
  },
  {
   "cell_type": "code",
   "execution_count": 19,
   "id": "5b1e7685-03ad-4a82-8b13-4e3818ca828a",
   "metadata": {},
   "outputs": [
    {
     "name": "stdout",
     "output_type": "stream",
     "text": [
      "[35 19  5 46]\n",
      "[5.91607978 4.35889894 2.23606798 6.78232998]\n"
     ]
    }
   ],
   "source": [
    "# 18. Створіть вектор розміром 4, заповніть його випадковими цілими числами в діапазоні від 1 до 50 \n",
    "# та знайдіть вектор з квадратними коренями цих чисел.\n",
    "\n",
    "vector18 = np.random.randint(1, 51, size=4)\n",
    "print(vector18)\n",
    "print(np.sqrt(vector18))"
   ]
  },
  {
   "cell_type": "code",
   "execution_count": null,
   "id": "2e336560-7d18-4c13-b170-5bfd4aa26e68",
   "metadata": {},
   "outputs": [],
   "source": []
  }
 ],
 "metadata": {
  "kernelspec": {
   "display_name": "Python 3 (ipykernel)",
   "language": "python",
   "name": "python3"
  },
  "language_info": {
   "codemirror_mode": {
    "name": "ipython",
    "version": 3
   },
   "file_extension": ".py",
   "mimetype": "text/x-python",
   "name": "python",
   "nbconvert_exporter": "python",
   "pygments_lexer": "ipython3",
   "version": "3.12.1"
  }
 },
 "nbformat": 4,
 "nbformat_minor": 5
}
