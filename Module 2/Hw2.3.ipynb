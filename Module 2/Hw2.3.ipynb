{
 "cells": [
  {
   "cell_type": "code",
   "execution_count": 2,
   "id": "7a9e2884-7932-4712-a8a1-6fb015640cb0",
   "metadata": {},
   "outputs": [],
   "source": [
    "%matplotlib inline\n",
    "\n",
    "import pandas as pd\n",
    "import numpy as np\n",
    "import matplotlib.pyplot as plt\n",
    "import seaborn as sns"
   ]
  },
  {
   "cell_type": "code",
   "execution_count": 3,
   "id": "a4d20345-803f-4a3d-8b85-df1d61f10c28",
   "metadata": {},
   "outputs": [
    {
     "data": {
      "text/html": [
       "<div>\n",
       "<style scoped>\n",
       "    .dataframe tbody tr th:only-of-type {\n",
       "        vertical-align: middle;\n",
       "    }\n",
       "\n",
       "    .dataframe tbody tr th {\n",
       "        vertical-align: top;\n",
       "    }\n",
       "\n",
       "    .dataframe thead th {\n",
       "        text-align: right;\n",
       "    }\n",
       "</style>\n",
       "<table border=\"1\" class=\"dataframe\">\n",
       "  <thead>\n",
       "    <tr style=\"text-align: right;\">\n",
       "      <th></th>\n",
       "      <th>Name</th>\n",
       "      <th>Author</th>\n",
       "      <th>User Rating</th>\n",
       "      <th>Reviews</th>\n",
       "      <th>Price</th>\n",
       "      <th>Year</th>\n",
       "      <th>Genre</th>\n",
       "    </tr>\n",
       "  </thead>\n",
       "  <tbody>\n",
       "    <tr>\n",
       "      <th>0</th>\n",
       "      <td>10-Day Green Smoothie Cleanse</td>\n",
       "      <td>JJ Smith</td>\n",
       "      <td>4.7</td>\n",
       "      <td>17350</td>\n",
       "      <td>8</td>\n",
       "      <td>2016</td>\n",
       "      <td>Non Fiction</td>\n",
       "    </tr>\n",
       "    <tr>\n",
       "      <th>1</th>\n",
       "      <td>11/22/63: A Novel</td>\n",
       "      <td>Stephen King</td>\n",
       "      <td>4.6</td>\n",
       "      <td>2052</td>\n",
       "      <td>22</td>\n",
       "      <td>2011</td>\n",
       "      <td>Fiction</td>\n",
       "    </tr>\n",
       "    <tr>\n",
       "      <th>2</th>\n",
       "      <td>12 Rules for Life: An Antidote to Chaos</td>\n",
       "      <td>Jordan B. Peterson</td>\n",
       "      <td>4.7</td>\n",
       "      <td>18979</td>\n",
       "      <td>15</td>\n",
       "      <td>2018</td>\n",
       "      <td>Non Fiction</td>\n",
       "    </tr>\n",
       "    <tr>\n",
       "      <th>3</th>\n",
       "      <td>1984 (Signet Classics)</td>\n",
       "      <td>George Orwell</td>\n",
       "      <td>4.7</td>\n",
       "      <td>21424</td>\n",
       "      <td>6</td>\n",
       "      <td>2017</td>\n",
       "      <td>Fiction</td>\n",
       "    </tr>\n",
       "    <tr>\n",
       "      <th>4</th>\n",
       "      <td>5,000 Awesome Facts (About Everything!) (Natio...</td>\n",
       "      <td>National Geographic Kids</td>\n",
       "      <td>4.8</td>\n",
       "      <td>7665</td>\n",
       "      <td>12</td>\n",
       "      <td>2019</td>\n",
       "      <td>Non Fiction</td>\n",
       "    </tr>\n",
       "  </tbody>\n",
       "</table>\n",
       "</div>"
      ],
      "text/plain": [
       "                                                Name  \\\n",
       "0                      10-Day Green Smoothie Cleanse   \n",
       "1                                  11/22/63: A Novel   \n",
       "2            12 Rules for Life: An Antidote to Chaos   \n",
       "3                             1984 (Signet Classics)   \n",
       "4  5,000 Awesome Facts (About Everything!) (Natio...   \n",
       "\n",
       "                     Author  User Rating  Reviews  Price  Year        Genre  \n",
       "0                  JJ Smith          4.7    17350      8  2016  Non Fiction  \n",
       "1              Stephen King          4.6     2052     22  2011      Fiction  \n",
       "2        Jordan B. Peterson          4.7    18979     15  2018  Non Fiction  \n",
       "3             George Orwell          4.7    21424      6  2017      Fiction  \n",
       "4  National Geographic Kids          4.8     7665     12  2019  Non Fiction  "
      ]
     },
     "execution_count": 3,
     "metadata": {},
     "output_type": "execute_result"
    }
   ],
   "source": [
    "books = pd.read_csv(\"bestsellers with categories.csv\")\n",
    "books.head(5)"
   ]
  },
  {
   "cell_type": "code",
   "execution_count": 4,
   "id": "a25f143f-9db1-4816-ad06-97c0e09f942e",
   "metadata": {},
   "outputs": [
    {
     "data": {
      "text/plain": [
       "(550, 7)"
      ]
     },
     "execution_count": 4,
     "metadata": {},
     "output_type": "execute_result"
    }
   ],
   "source": [
    "books.shape"
   ]
  },
  {
   "cell_type": "code",
   "execution_count": 6,
   "id": "4451547e-d59e-4b3c-b287-4fa78478f3b3",
   "metadata": {},
   "outputs": [
    {
     "data": {
      "text/plain": [
       "351"
      ]
     },
     "execution_count": 6,
     "metadata": {},
     "output_type": "execute_result"
    }
   ],
   "source": [
    "book_count = books['Name'].nunique()\n",
    "book_count"
   ]
  },
  {
   "cell_type": "markdown",
   "id": "8d662dfc-c978-4684-af99-d7a8736acb5c",
   "metadata": {},
   "source": [
    "*Про скільки книг зберігає дані датасет? Відповідь: 351*"
   ]
  },
  {
   "cell_type": "code",
   "execution_count": 7,
   "id": "73f61391-7515-4420-97f8-1fa1a2d29a98",
   "metadata": {},
   "outputs": [
    {
     "data": {
      "text/html": [
       "<div>\n",
       "<style scoped>\n",
       "    .dataframe tbody tr th:only-of-type {\n",
       "        vertical-align: middle;\n",
       "    }\n",
       "\n",
       "    .dataframe tbody tr th {\n",
       "        vertical-align: top;\n",
       "    }\n",
       "\n",
       "    .dataframe thead th {\n",
       "        text-align: right;\n",
       "    }\n",
       "</style>\n",
       "<table border=\"1\" class=\"dataframe\">\n",
       "  <thead>\n",
       "    <tr style=\"text-align: right;\">\n",
       "      <th></th>\n",
       "      <th>name</th>\n",
       "      <th>author</th>\n",
       "      <th>user_rating</th>\n",
       "      <th>reviews</th>\n",
       "      <th>price</th>\n",
       "      <th>year</th>\n",
       "      <th>genre</th>\n",
       "    </tr>\n",
       "  </thead>\n",
       "  <tbody>\n",
       "    <tr>\n",
       "      <th>0</th>\n",
       "      <td>10-Day Green Smoothie Cleanse</td>\n",
       "      <td>JJ Smith</td>\n",
       "      <td>4.7</td>\n",
       "      <td>17350</td>\n",
       "      <td>8</td>\n",
       "      <td>2016</td>\n",
       "      <td>Non Fiction</td>\n",
       "    </tr>\n",
       "    <tr>\n",
       "      <th>1</th>\n",
       "      <td>11/22/63: A Novel</td>\n",
       "      <td>Stephen King</td>\n",
       "      <td>4.6</td>\n",
       "      <td>2052</td>\n",
       "      <td>22</td>\n",
       "      <td>2011</td>\n",
       "      <td>Fiction</td>\n",
       "    </tr>\n",
       "  </tbody>\n",
       "</table>\n",
       "</div>"
      ],
      "text/plain": [
       "                            name        author  user_rating  reviews  price  \\\n",
       "0  10-Day Green Smoothie Cleanse      JJ Smith          4.7    17350      8   \n",
       "1              11/22/63: A Novel  Stephen King          4.6     2052     22   \n",
       "\n",
       "   year        genre  \n",
       "0  2016  Non Fiction  \n",
       "1  2011      Fiction  "
      ]
     },
     "execution_count": 7,
     "metadata": {},
     "output_type": "execute_result"
    }
   ],
   "source": [
    "books.columns = ['name', 'author', 'user_rating', 'reviews', 'price', 'year', 'genre']\n",
    "books.head(2)"
   ]
  },
  {
   "cell_type": "markdown",
   "id": "78883074-0aa5-4dd2-b58b-87be344ae4fc",
   "metadata": {},
   "source": [
    "## **Первинне дослідження даних**"
   ]
  },
  {
   "cell_type": "code",
   "execution_count": 8,
   "id": "134ad270-e6ff-443f-9876-fbaf71c7b5a6",
   "metadata": {},
   "outputs": [
    {
     "data": {
      "text/plain": [
       "name           0.0\n",
       "author         0.0\n",
       "user_rating    0.0\n",
       "reviews        0.0\n",
       "price          0.0\n",
       "year           0.0\n",
       "genre          0.0\n",
       "dtype: float64"
      ]
     },
     "execution_count": 8,
     "metadata": {},
     "output_type": "execute_result"
    }
   ],
   "source": [
    "missing_percentages = (books.isnull().sum() / len(books)) * 100\n",
    "missing_percentages"
   ]
  },
  {
   "cell_type": "markdown",
   "id": "64a44ee4-07f1-43fc-bf53-b1937c38f929",
   "metadata": {},
   "source": [
    "*Чи є в якихось змінних пропуски? (Так / ні)*\n",
    "\n",
    "*Відповідь: ні*"
   ]
  },
  {
   "cell_type": "code",
   "execution_count": 9,
   "id": "1397f324-92fe-496e-9ceb-823d795e0e8f",
   "metadata": {},
   "outputs": [
    {
     "data": {
      "text/plain": [
       "array(['Non Fiction', 'Fiction'], dtype=object)"
      ]
     },
     "execution_count": 9,
     "metadata": {},
     "output_type": "execute_result"
    }
   ],
   "source": [
    "unique_genre = books['genre'].unique()\n",
    "unique_genre"
   ]
  },
  {
   "cell_type": "markdown",
   "id": "65fa70da-a482-48c6-998f-bb8da7bf98de",
   "metadata": {},
   "source": [
    "*Які є унікальні жанри?*\n",
    "\n",
    "*Відповідь: 'Non Fiction' та 'Fiction'*"
   ]
  },
  {
   "cell_type": "code",
   "execution_count": 16,
   "id": "13480dfb-2285-4912-be22-41c44933a88f",
   "metadata": {},
   "outputs": [
    {
     "data": {
      "image/png": "[encoded data removed]",
      "text/plain": [
       "<Figure size 640x480 with 1 Axes>"
      ]
     },
     "metadata": {},
     "output_type": "display_data"
    }
   ],
   "source": [
    "genre_counts = books[books['year'] == 2019]\n",
    "genre_counts = genre_counts['genre'].value_counts()\n",
    "\n",
    "wedges, texts, autotexts = plt.pie(genre_counts, autopct='%1.1f%%', colors=plt.cm.Set1.colors)\n",
    "plt.legend(wedges, genre_counts.index,\n",
    "           title=\"Genres\",\n",
    "           loc=\"center left\",\n",
    "           bbox_to_anchor=(1, 0, 0.5, 1))\n",
    "plt.title(\"Top-50 books in 2019 year devided by genre\")\n",
    "\n",
    "plt.show()"
   ]
  },
  {
   "cell_type": "code",
   "execution_count": 12,
   "id": "b6c4025f-ab28-4780-9c2e-533a6178712c",
   "metadata": {},
   "outputs": [
    {
     "data": {
      "image/png": "[encoded data removed]",
      "text/plain": [
       "<Figure size 1000x600 with 1 Axes>"
      ]
     },
     "metadata": {},
     "output_type": "display_data"
    }
   ],
   "source": [
    "import matplotlib.pyplot as plt\n",
    "\n",
    "books['price'].hist(bins=50, figsize=(10,6), color='#a140de', edgecolor='black')\n",
    "\n",
    "plt.title('Розподіл цін')\n",
    "plt.xlabel('Ціна')\n",
    "plt.ylabel('Кількість')\n",
    "\n",
    "plt.show()"
   ]
  },
  {
   "cell_type": "code",
   "execution_count": 11,
   "id": "4bf6a2a7-9d0f-4886-aeee-3418622e28ec",
   "metadata": {},
   "outputs": [
    {
     "name": "stdout",
     "output_type": "stream",
     "text": [
      "Максимальна ціна: 105\n",
      "Мінімальна ціна: 0\n",
      "Середня ціна: 13.1\n",
      "Медіанна ціна: 11.0\n"
     ]
    }
   ],
   "source": [
    "max_price = books['price'].max()\n",
    "print(f\"Максимальна ціна: {max_price}\")\n",
    "\n",
    "min_price = books['price'].min()\n",
    "print(f\"Мінімальна ціна: {min_price}\")\n",
    "\n",
    "mean_price = books['price'].mean()\n",
    "print(f\"Середня ціна: {mean_price}\")\n",
    "\n",
    "median_price = books['price'].median()\n",
    "print(f\"Медіанна ціна: {median_price}\")"
   ]
  },
  {
   "cell_type": "markdown",
   "id": "c684b096-c80b-4ea5-8a64-63176a66ab30",
   "metadata": {},
   "source": [
    "*Максимальна ціна? Відповідь: 105*\n",
    "\n",
    "*Мінімальна ціна? Відповідь: 0*\n",
    "\n",
    "*Середня ціна? Відповідь: 13,1*\n",
    "\n",
    "*Медіанна ціна? Відповідь: 11*"
   ]
  },
  {
   "cell_type": "markdown",
   "id": "2fa6d364-4d72-4589-b327-8736e7332c95",
   "metadata": {},
   "source": [
    "## **Пошук та сортування даних**"
   ]
  },
  {
   "cell_type": "code",
   "execution_count": 12,
   "id": "78184919-28ca-4842-b9ac-3b377e4e2c7e",
   "metadata": {},
   "outputs": [
    {
     "data": {
      "text/plain": [
       "4.9"
      ]
     },
     "execution_count": 12,
     "metadata": {},
     "output_type": "execute_result"
    }
   ],
   "source": [
    "max_rating = books['user_rating'].max()\n",
    "max_rating"
   ]
  },
  {
   "cell_type": "markdown",
   "id": "4ea4154b-b3d9-48f9-9fe3-4a438f16769c",
   "metadata": {},
   "source": [
    "*Який рейтинг у датасеті найвищий? Відповідь: 4,9*"
   ]
  },
  {
   "cell_type": "code",
   "execution_count": 13,
   "id": "5ec56905-8357-41c1-913e-ef3cb023fc5f",
   "metadata": {},
   "outputs": [
    {
     "data": {
      "text/plain": [
       "52"
      ]
     },
     "execution_count": 13,
     "metadata": {},
     "output_type": "execute_result"
    }
   ],
   "source": [
    "max_rating_count = books[books['user_rating'] == 4.9]\n",
    "\n",
    "max_rating_count.shape[0]"
   ]
  },
  {
   "cell_type": "markdown",
   "id": "b1b5f036-6009-40d3-b366-5765b5921935",
   "metadata": {},
   "source": [
    "*Скільки книг мають такий рейтинг?  Відповідь: 52*"
   ]
  },
  {
   "cell_type": "code",
   "execution_count": 14,
   "id": "113b289e-4054-4648-9de5-41da99f2d87b",
   "metadata": {},
   "outputs": [
    {
     "data": {
      "text/html": [
       "<div>\n",
       "<style scoped>\n",
       "    .dataframe tbody tr th:only-of-type {\n",
       "        vertical-align: middle;\n",
       "    }\n",
       "\n",
       "    .dataframe tbody tr th {\n",
       "        vertical-align: top;\n",
       "    }\n",
       "\n",
       "    .dataframe thead th {\n",
       "        text-align: right;\n",
       "    }\n",
       "</style>\n",
       "<table border=\"1\" class=\"dataframe\">\n",
       "  <thead>\n",
       "    <tr style=\"text-align: right;\">\n",
       "      <th></th>\n",
       "      <th>name</th>\n",
       "      <th>author</th>\n",
       "      <th>user_rating</th>\n",
       "      <th>reviews</th>\n",
       "      <th>price</th>\n",
       "      <th>year</th>\n",
       "      <th>genre</th>\n",
       "    </tr>\n",
       "  </thead>\n",
       "  <tbody>\n",
       "    <tr>\n",
       "      <th>534</th>\n",
       "      <td>Where the Crawdads Sing</td>\n",
       "      <td>Delia Owens</td>\n",
       "      <td>4.8</td>\n",
       "      <td>87841</td>\n",
       "      <td>15</td>\n",
       "      <td>2019</td>\n",
       "      <td>Fiction</td>\n",
       "    </tr>\n",
       "  </tbody>\n",
       "</table>\n",
       "</div>"
      ],
      "text/plain": [
       "                        name       author  user_rating  reviews  price  year  \\\n",
       "534  Where the Crawdads Sing  Delia Owens          4.8    87841     15  2019   \n",
       "\n",
       "       genre  \n",
       "534  Fiction  "
      ]
     },
     "execution_count": 14,
     "metadata": {},
     "output_type": "execute_result"
    }
   ],
   "source": [
    "max_reviews = books['reviews'].max()\n",
    "max_reviews_book = books[books['reviews'] == max_reviews]\n",
    "max_reviews_book"
   ]
  },
  {
   "cell_type": "markdown",
   "id": "93c19fe1-68e1-4222-ac94-e0afd58e2673",
   "metadata": {},
   "source": [
    "*Яка книга має найбільше відгуків? Відповідь: Where the Crawdads Sing*"
   ]
  },
  {
   "cell_type": "code",
   "execution_count": 21,
   "id": "872d75a0-2ccf-418f-8511-a90d4ff214aa",
   "metadata": {},
   "outputs": [
    {
     "data": {
      "text/html": [
       "<div>\n",
       "<style scoped>\n",
       "    .dataframe tbody tr th:only-of-type {\n",
       "        vertical-align: middle;\n",
       "    }\n",
       "\n",
       "    .dataframe tbody tr th {\n",
       "        vertical-align: top;\n",
       "    }\n",
       "\n",
       "    .dataframe thead th {\n",
       "        text-align: right;\n",
       "    }\n",
       "</style>\n",
       "<table border=\"1\" class=\"dataframe\">\n",
       "  <thead>\n",
       "    <tr style=\"text-align: right;\">\n",
       "      <th></th>\n",
       "      <th>name</th>\n",
       "      <th>author</th>\n",
       "      <th>user_rating</th>\n",
       "      <th>reviews</th>\n",
       "      <th>price</th>\n",
       "      <th>year</th>\n",
       "      <th>genre</th>\n",
       "    </tr>\n",
       "  </thead>\n",
       "  <tbody>\n",
       "    <tr>\n",
       "      <th>277</th>\n",
       "      <td>Publication Manual of the American Psychologic...</td>\n",
       "      <td>American Psychological Association</td>\n",
       "      <td>4.5</td>\n",
       "      <td>8580</td>\n",
       "      <td>46</td>\n",
       "      <td>2015</td>\n",
       "      <td>Non Fiction</td>\n",
       "    </tr>\n",
       "  </tbody>\n",
       "</table>\n",
       "</div>"
      ],
      "text/plain": [
       "                                                  name  \\\n",
       "277  Publication Manual of the American Psychologic...   \n",
       "\n",
       "                                 author  user_rating  reviews  price  year  \\\n",
       "277  American Psychological Association          4.5     8580     46  2015   \n",
       "\n",
       "           genre  \n",
       "277  Non Fiction  "
      ]
     },
     "execution_count": 21,
     "metadata": {},
     "output_type": "execute_result"
    }
   ],
   "source": [
    "year_2015 = books[books['year'] == 2015]\n",
    "year_2015_most_expencive = year_2015[year_2015['price'] == year_2015['price'].max()]\n",
    "year_2015_most_expencive"
   ]
  },
  {
   "cell_type": "markdown",
   "id": "446f976f-6533-4bb3-91be-d136b141e014",
   "metadata": {},
   "source": [
    "*З тих книг, що потрапили до Топ-50 у 2015 році, яка книга найдорожча?*\n",
    "\n",
    "*Відповідь: Publication Manual of the American Psychological Association, 6th Edition*"
   ]
  },
  {
   "cell_type": "code",
   "execution_count": 25,
   "id": "a379b035-e34c-43ea-96de-f1df6034680a",
   "metadata": {},
   "outputs": [
    {
     "data": {
      "text/plain": [
       "20"
      ]
     },
     "execution_count": 25,
     "metadata": {},
     "output_type": "execute_result"
    }
   ],
   "source": [
    "year_2010 = books[(books['year'] == 2010) & (books['genre'] == 'Fiction')]\n",
    "year_2010.shape[0]"
   ]
  },
  {
   "cell_type": "markdown",
   "id": "a256d411-2aa6-46d2-af13-dddd36d25238",
   "metadata": {},
   "source": [
    "*Скільки книг жанру Fiction потрапили до Топ-50 у 2010 році? Відповідь: 20*"
   ]
  },
  {
   "cell_type": "code",
   "execution_count": 28,
   "id": "51798468-045f-492d-887f-701d24a91a64",
   "metadata": {},
   "outputs": [
    {
     "data": {
      "text/plain": [
       "1"
      ]
     },
     "execution_count": 28,
     "metadata": {},
     "output_type": "execute_result"
    }
   ],
   "source": [
    "books_2010_2011_max_rating = books[(books['year'].isin([2010, 2011])) & (books['user_rating'] == 4.9)]\n",
    "books_2010_2011_max_rating.shape[0]"
   ]
  },
  {
   "cell_type": "markdown",
   "id": "cdaae78e-4141-4a32-b319-df24398a71e2",
   "metadata": {},
   "source": [
    "*Скільки книг з рейтингом 4.9 потрапило до рейтингу у 2010 та 2011 роках? Відповідь: 1*"
   ]
  },
  {
   "cell_type": "code",
   "execution_count": 35,
   "id": "130d2679-ae74-4062-8b11-3a8a03f6f540",
   "metadata": {},
   "outputs": [
    {
     "data": {
      "text/html": [
       "<div>\n",
       "<style scoped>\n",
       "    .dataframe tbody tr th:only-of-type {\n",
       "        vertical-align: middle;\n",
       "    }\n",
       "\n",
       "    .dataframe tbody tr th {\n",
       "        vertical-align: top;\n",
       "    }\n",
       "\n",
       "    .dataframe thead th {\n",
       "        text-align: right;\n",
       "    }\n",
       "</style>\n",
       "<table border=\"1\" class=\"dataframe\">\n",
       "  <thead>\n",
       "    <tr style=\"text-align: right;\">\n",
       "      <th></th>\n",
       "      <th>name</th>\n",
       "      <th>author</th>\n",
       "      <th>user_rating</th>\n",
       "      <th>reviews</th>\n",
       "      <th>price</th>\n",
       "      <th>year</th>\n",
       "      <th>genre</th>\n",
       "    </tr>\n",
       "  </thead>\n",
       "  <tbody>\n",
       "    <tr>\n",
       "      <th>376</th>\n",
       "      <td>The Four Agreements: A Practical Guide to Pers...</td>\n",
       "      <td>Don Miguel Ruiz</td>\n",
       "      <td>4.7</td>\n",
       "      <td>23308</td>\n",
       "      <td>6</td>\n",
       "      <td>2015</td>\n",
       "      <td>Non Fiction</td>\n",
       "    </tr>\n",
       "    <tr>\n",
       "      <th>16</th>\n",
       "      <td>Adult Coloring Book: Stress Relieving Animal D...</td>\n",
       "      <td>Blue Star Coloring</td>\n",
       "      <td>4.6</td>\n",
       "      <td>2925</td>\n",
       "      <td>6</td>\n",
       "      <td>2015</td>\n",
       "      <td>Non Fiction</td>\n",
       "    </tr>\n",
       "    <tr>\n",
       "      <th>253</th>\n",
       "      <td>Old School (Diary of a Wimpy Kid #10)</td>\n",
       "      <td>Jeff Kinney</td>\n",
       "      <td>4.8</td>\n",
       "      <td>6169</td>\n",
       "      <td>7</td>\n",
       "      <td>2015</td>\n",
       "      <td>Fiction</td>\n",
       "    </tr>\n",
       "  </tbody>\n",
       "</table>\n",
       "</div>"
      ],
      "text/plain": [
       "                                                  name              author  \\\n",
       "376  The Four Agreements: A Practical Guide to Pers...     Don Miguel Ruiz   \n",
       "16   Adult Coloring Book: Stress Relieving Animal D...  Blue Star Coloring   \n",
       "253              Old School (Diary of a Wimpy Kid #10)         Jeff Kinney   \n",
       "\n",
       "     user_rating  reviews  price  year        genre  \n",
       "376          4.7    23308      6  2015  Non Fiction  \n",
       "16           4.6     2925      6  2015  Non Fiction  \n",
       "253          4.8     6169      7  2015      Fiction  "
      ]
     },
     "execution_count": 35,
     "metadata": {},
     "output_type": "execute_result"
    }
   ],
   "source": [
    "books_2015_cheap = books[(books['year'] == 2015) & (books['price'] < 8)]\n",
    "books_2015_cheap.sort_values(by='price', ascending = True).tail(3)"
   ]
  },
  {
   "cell_type": "markdown",
   "id": "926868e2-c7a3-422b-8523-84c2763df75e",
   "metadata": {},
   "source": [
    "*Яка книга остання у відсортованому списку? Відповідь: Old School (Diary of a Wimpy Kid #10)*"
   ]
  },
  {
   "cell_type": "markdown",
   "id": "65a722ef-670a-4ba1-b97e-c76dc768572c",
   "metadata": {},
   "source": [
    "## **Агрегування даних та з'єднання таблиць**"
   ]
  },
  {
   "cell_type": "code",
   "execution_count": 37,
   "id": "bd24f739-782a-44ab-a8e2-d072916df657",
   "metadata": {
    "editable": true,
    "slideshow": {
     "slide_type": ""
    },
    "tags": []
   },
   "outputs": [
    {
     "data": {
      "text/html": [
       "<div>\n",
       "<style scoped>\n",
       "    .dataframe tbody tr th:only-of-type {\n",
       "        vertical-align: middle;\n",
       "    }\n",
       "\n",
       "    .dataframe tbody tr th {\n",
       "        vertical-align: top;\n",
       "    }\n",
       "\n",
       "    .dataframe thead th {\n",
       "        text-align: right;\n",
       "    }\n",
       "</style>\n",
       "<table border=\"1\" class=\"dataframe\">\n",
       "  <thead>\n",
       "    <tr style=\"text-align: right;\">\n",
       "      <th></th>\n",
       "      <th>min_price</th>\n",
       "      <th>max_price</th>\n",
       "    </tr>\n",
       "    <tr>\n",
       "      <th>genre</th>\n",
       "      <th></th>\n",
       "      <th></th>\n",
       "    </tr>\n",
       "  </thead>\n",
       "  <tbody>\n",
       "    <tr>\n",
       "      <th>Fiction</th>\n",
       "      <td>0</td>\n",
       "      <td>82</td>\n",
       "    </tr>\n",
       "    <tr>\n",
       "      <th>Non Fiction</th>\n",
       "      <td>0</td>\n",
       "      <td>105</td>\n",
       "    </tr>\n",
       "  </tbody>\n",
       "</table>\n",
       "</div>"
      ],
      "text/plain": [
       "             min_price  max_price\n",
       "genre                            \n",
       "Fiction              0         82\n",
       "Non Fiction          0        105"
      ]
     },
     "execution_count": 37,
     "metadata": {},
     "output_type": "execute_result"
    }
   ],
   "source": [
    "books_groupby_genre = books.groupby('genre')\n",
    "aggr_genre = books_groupby_genre.agg(min_price=pd.NamedAgg(column='price', aggfunc='min'),\n",
    "                                    max_price=pd.NamedAgg(column='price', aggfunc='max'))\n",
    "aggr_genre"
   ]
  },
  {
   "cell_type": "markdown",
   "id": "0bc3f01c-5898-4670-bc22-db485bc8e0be",
   "metadata": {},
   "source": [
    "*Максимальна ціна для жанру Fiction: 82*\n",
    "\n",
    "*Мінімальна ціна для жанру Fiction: 0*\n",
    "\n",
    "*Максимальна ціна для жанру Non Fiction: 105*\n",
    "\n",
    "*Мінімальна ціна для жанру Non Fiction: 0*"
   ]
  },
  {
   "cell_type": "code",
   "execution_count": 15,
   "id": "5522c2c0-18dc-4c19-9c9a-9f48a8e38af7",
   "metadata": {
    "editable": true,
    "slideshow": {
     "slide_type": ""
    },
    "tags": []
   },
   "outputs": [
    {
     "data": {
      "text/html": [
       "<div>\n",
       "<style scoped>\n",
       "    .dataframe tbody tr th:only-of-type {\n",
       "        vertical-align: middle;\n",
       "    }\n",
       "\n",
       "    .dataframe tbody tr th {\n",
       "        vertical-align: top;\n",
       "    }\n",
       "\n",
       "    .dataframe thead th {\n",
       "        text-align: right;\n",
       "    }\n",
       "</style>\n",
       "<table border=\"1\" class=\"dataframe\">\n",
       "  <thead>\n",
       "    <tr style=\"text-align: right;\">\n",
       "      <th></th>\n",
       "      <th>author</th>\n",
       "      <th>book_count</th>\n",
       "    </tr>\n",
       "  </thead>\n",
       "  <tbody>\n",
       "    <tr>\n",
       "      <th>120</th>\n",
       "      <td>Jeff Kinney</td>\n",
       "      <td>12</td>\n",
       "    </tr>\n",
       "    <tr>\n",
       "      <th>92</th>\n",
       "      <td>Gary Chapman</td>\n",
       "      <td>11</td>\n",
       "    </tr>\n",
       "    <tr>\n",
       "      <th>226</th>\n",
       "      <td>Suzanne Collins</td>\n",
       "      <td>11</td>\n",
       "    </tr>\n",
       "    <tr>\n",
       "      <th>197</th>\n",
       "      <td>Rick Riordan</td>\n",
       "      <td>11</td>\n",
       "    </tr>\n",
       "    <tr>\n",
       "      <th>11</th>\n",
       "      <td>American Psychological Association</td>\n",
       "      <td>10</td>\n",
       "    </tr>\n",
       "    <tr>\n",
       "      <th>...</th>\n",
       "      <td>...</td>\n",
       "      <td>...</td>\n",
       "    </tr>\n",
       "    <tr>\n",
       "      <th>61</th>\n",
       "      <td>David Grann</td>\n",
       "      <td>1</td>\n",
       "    </tr>\n",
       "    <tr>\n",
       "      <th>143</th>\n",
       "      <td>Larry Schweikart</td>\n",
       "      <td>1</td>\n",
       "    </tr>\n",
       "    <tr>\n",
       "      <th>62</th>\n",
       "      <td>David McCullough</td>\n",
       "      <td>1</td>\n",
       "    </tr>\n",
       "    <tr>\n",
       "      <th>141</th>\n",
       "      <td>Khaled Hosseini</td>\n",
       "      <td>1</td>\n",
       "    </tr>\n",
       "    <tr>\n",
       "      <th>171</th>\n",
       "      <td>Muriel Barbery</td>\n",
       "      <td>1</td>\n",
       "    </tr>\n",
       "  </tbody>\n",
       "</table>\n",
       "<p>248 rows × 2 columns</p>\n",
       "</div>"
      ],
      "text/plain": [
       "                                 author  book_count\n",
       "120                         Jeff Kinney          12\n",
       "92                         Gary Chapman          11\n",
       "226                     Suzanne Collins          11\n",
       "197                        Rick Riordan          11\n",
       "11   American Psychological Association          10\n",
       "..                                  ...         ...\n",
       "61                          David Grann           1\n",
       "143                    Larry Schweikart           1\n",
       "62                     David McCullough           1\n",
       "141                     Khaled Hosseini           1\n",
       "171                      Muriel Barbery           1\n",
       "\n",
       "[248 rows x 2 columns]"
      ]
     },
     "execution_count": 15,
     "metadata": {},
     "output_type": "execute_result"
    }
   ],
   "source": [
    "books_author = books[['author']]\n",
    "agg_books_for_author = books_author.groupby('author').size().reset_index(name='book_count')\n",
    "agg_books_for_author.sort_values(by='book_count', ascending=False)"
   ]
  },
  {
   "cell_type": "markdown",
   "id": "6cac8af7-b7d8-4461-8359-52ff70de232e",
   "metadata": {},
   "source": [
    "*Якої розмірності вийшла таблиця? Відповідь: 248 рядків (авторів)*\n",
    "\n",
    "*Який автор має найбільше книг? Відповідь: Jeff Kinney*\n",
    "\n",
    "*Скільки книг цього автора? Відповідь: 12*"
   ]
  },
  {
   "cell_type": "code",
   "execution_count": 16,
   "id": "746baa1b-bfde-4262-999b-1f143360010c",
   "metadata": {
    "editable": true,
    "slideshow": {
     "slide_type": ""
    },
    "tags": []
   },
   "outputs": [
    {
     "data": {
      "text/html": [
       "<div>\n",
       "<style scoped>\n",
       "    .dataframe tbody tr th:only-of-type {\n",
       "        vertical-align: middle;\n",
       "    }\n",
       "\n",
       "    .dataframe tbody tr th {\n",
       "        vertical-align: top;\n",
       "    }\n",
       "\n",
       "    .dataframe thead th {\n",
       "        text-align: right;\n",
       "    }\n",
       "</style>\n",
       "<table border=\"1\" class=\"dataframe\">\n",
       "  <thead>\n",
       "    <tr style=\"text-align: right;\">\n",
       "      <th></th>\n",
       "      <th>avg</th>\n",
       "    </tr>\n",
       "    <tr>\n",
       "      <th>author</th>\n",
       "      <th></th>\n",
       "    </tr>\n",
       "  </thead>\n",
       "  <tbody>\n",
       "    <tr>\n",
       "      <th>Emily Winfield Martin</th>\n",
       "      <td>4.9</td>\n",
       "    </tr>\n",
       "    <tr>\n",
       "      <th>Lin-Manuel Miranda</th>\n",
       "      <td>4.9</td>\n",
       "    </tr>\n",
       "    <tr>\n",
       "      <th>Jill Twiss</th>\n",
       "      <td>4.9</td>\n",
       "    </tr>\n",
       "    <tr>\n",
       "      <th>Rush Limbaugh</th>\n",
       "      <td>4.9</td>\n",
       "    </tr>\n",
       "    <tr>\n",
       "      <th>Pete Souza</th>\n",
       "      <td>4.9</td>\n",
       "    </tr>\n",
       "    <tr>\n",
       "      <th>...</th>\n",
       "      <td>...</td>\n",
       "    </tr>\n",
       "    <tr>\n",
       "      <th>Paula Hawkins</th>\n",
       "      <td>4.1</td>\n",
       "    </tr>\n",
       "    <tr>\n",
       "      <th>Gillian Flynn</th>\n",
       "      <td>4.0</td>\n",
       "    </tr>\n",
       "    <tr>\n",
       "      <th>Gallup</th>\n",
       "      <td>4.0</td>\n",
       "    </tr>\n",
       "    <tr>\n",
       "      <th>Muriel Barbery</th>\n",
       "      <td>4.0</td>\n",
       "    </tr>\n",
       "    <tr>\n",
       "      <th>Donna Tartt</th>\n",
       "      <td>3.9</td>\n",
       "    </tr>\n",
       "  </tbody>\n",
       "</table>\n",
       "<p>248 rows × 1 columns</p>\n",
       "</div>"
      ],
      "text/plain": [
       "                       avg\n",
       "author                    \n",
       "Emily Winfield Martin  4.9\n",
       "Lin-Manuel Miranda     4.9\n",
       "Jill Twiss             4.9\n",
       "Rush Limbaugh          4.9\n",
       "Pete Souza             4.9\n",
       "...                    ...\n",
       "Paula Hawkins          4.1\n",
       "Gillian Flynn          4.0\n",
       "Gallup                 4.0\n",
       "Muriel Barbery         4.0\n",
       "Donna Tartt            3.9\n",
       "\n",
       "[248 rows x 1 columns]"
      ]
     },
     "execution_count": 16,
     "metadata": {},
     "output_type": "execute_result"
    }
   ],
   "source": [
    "books_groupby_author = books.groupby('author')\n",
    "agg_mean_books = books_groupby_author.agg(avg=pd.NamedAgg(column='user_rating', aggfunc='mean')).round(1)\n",
    "agg_mean_books.sort_values(by='avg', ascending=False)"
   ]
  },
  {
   "cell_type": "markdown",
   "id": "4d5ab1bf-766e-400f-a5b0-4cacd12c0271",
   "metadata": {},
   "source": [
    "*У якого автора середній рейтинг мінімальний? Відповідь: Donna Tartt*\n",
    "\n",
    "*Який у цього автора середній рейтинг? Відповідь: 3.9*"
   ]
  },
  {
   "cell_type": "code",
   "execution_count": 63,
   "id": "2378c50e-e75c-4ead-b938-b2808a4acb18",
   "metadata": {},
   "outputs": [
    {
     "data": {
      "text/html": [
       "<div>\n",
       "<style scoped>\n",
       "    .dataframe tbody tr th:only-of-type {\n",
       "        vertical-align: middle;\n",
       "    }\n",
       "\n",
       "    .dataframe tbody tr th {\n",
       "        vertical-align: top;\n",
       "    }\n",
       "\n",
       "    .dataframe thead th {\n",
       "        text-align: right;\n",
       "    }\n",
       "</style>\n",
       "<table border=\"1\" class=\"dataframe\">\n",
       "  <thead>\n",
       "    <tr style=\"text-align: right;\">\n",
       "      <th></th>\n",
       "      <th>book_count</th>\n",
       "      <th>avg</th>\n",
       "    </tr>\n",
       "    <tr>\n",
       "      <th>author</th>\n",
       "      <th></th>\n",
       "      <th></th>\n",
       "    </tr>\n",
       "  </thead>\n",
       "  <tbody>\n",
       "    <tr>\n",
       "      <th>Muriel Barbery</th>\n",
       "      <td>1</td>\n",
       "      <td>4.0</td>\n",
       "    </tr>\n",
       "    <tr>\n",
       "      <th>Chris Cleave</th>\n",
       "      <td>1</td>\n",
       "      <td>4.1</td>\n",
       "    </tr>\n",
       "    <tr>\n",
       "      <th>Ian K. Smith M.D.</th>\n",
       "      <td>1</td>\n",
       "      <td>4.1</td>\n",
       "    </tr>\n",
       "    <tr>\n",
       "      <th>Pierre Dukan</th>\n",
       "      <td>1</td>\n",
       "      <td>4.1</td>\n",
       "    </tr>\n",
       "    <tr>\n",
       "      <th>Elizabeth Strout</th>\n",
       "      <td>1</td>\n",
       "      <td>4.2</td>\n",
       "    </tr>\n",
       "    <tr>\n",
       "      <th>...</th>\n",
       "      <td>...</td>\n",
       "      <td>...</td>\n",
       "    </tr>\n",
       "    <tr>\n",
       "      <th>American Psychological Association</th>\n",
       "      <td>10</td>\n",
       "      <td>4.5</td>\n",
       "    </tr>\n",
       "    <tr>\n",
       "      <th>Gary Chapman</th>\n",
       "      <td>11</td>\n",
       "      <td>4.7</td>\n",
       "    </tr>\n",
       "    <tr>\n",
       "      <th>Suzanne Collins</th>\n",
       "      <td>11</td>\n",
       "      <td>4.7</td>\n",
       "    </tr>\n",
       "    <tr>\n",
       "      <th>Rick Riordan</th>\n",
       "      <td>11</td>\n",
       "      <td>4.8</td>\n",
       "    </tr>\n",
       "    <tr>\n",
       "      <th>Jeff Kinney</th>\n",
       "      <td>12</td>\n",
       "      <td>4.8</td>\n",
       "    </tr>\n",
       "  </tbody>\n",
       "</table>\n",
       "<p>248 rows × 2 columns</p>\n",
       "</div>"
      ],
      "text/plain": [
       "                                    book_count  avg\n",
       "author                                             \n",
       "Muriel Barbery                               1  4.0\n",
       "Chris Cleave                                 1  4.1\n",
       "Ian K. Smith M.D.                            1  4.1\n",
       "Pierre Dukan                                 1  4.1\n",
       "Elizabeth Strout                             1  4.2\n",
       "...                                        ...  ...\n",
       "American Psychological Association          10  4.5\n",
       "Gary Chapman                                11  4.7\n",
       "Suzanne Collins                             11  4.7\n",
       "Rick Riordan                                11  4.8\n",
       "Jeff Kinney                                 12  4.8\n",
       "\n",
       "[248 rows x 2 columns]"
      ]
     },
     "execution_count": 63,
     "metadata": {},
     "output_type": "execute_result"
    }
   ],
   "source": [
    "author_concat = pd.concat([agg_books_for_author.set_index('author'), agg_mean_books], axis=1)\n",
    "author_concat.sort_values(by=['book_count','avg'], ascending=[True,True])"
   ]
  },
  {
   "cell_type": "markdown",
   "id": "4b1fe9b2-85b0-4d89-9ea9-19a82b63862e",
   "metadata": {},
   "source": [
    "*Який автор перший у списку? Відповідь: Muriel Barbery*"
   ]
  },
  {
   "cell_type": "code",
   "execution_count": 35,
   "id": "422d7f6a-03f0-4359-be4d-216f55d336c8",
   "metadata": {},
   "outputs": [
    {
     "data": {
      "image/png": "[encoded data removed]",
      "text/plain": [
       "<Figure size 800x400 with 1 Axes>"
      ]
     },
     "metadata": {},
     "output_type": "display_data"
    }
   ],
   "source": [
    "aggregated_df = books.groupby('year')['price'].median().reset_index()\n",
    "\n",
    "plt.figure(figsize=(8, 4))\n",
    "plt.plot(aggregated_df['year'], aggregated_df['price'],linestyle='-.', marker='D', color='#eb34b4')\n",
    "plt.title('Median Book Prices Over Years')\n",
    "plt.xlabel('Year')\n",
    "plt.ylabel('Median Price')\n",
    "plt.grid(True)\n",
    "plt.show()"
   ]
  },
  {
   "cell_type": "code",
   "execution_count": null,
   "id": "d4c8091c-c9f6-4327-a3ea-173b6d321512",
   "metadata": {},
   "outputs": [],
   "source": []
  }
 ],
 "metadata": {
  "kernelspec": {
   "display_name": "Python 3 (ipykernel)",
   "language": "python",
   "name": "python3"
  },
  "language_info": {
   "codemirror_mode": {
    "name": "ipython",
    "version": 3
   },
   "file_extension": ".py",
   "mimetype": "text/x-python",
   "name": "python",
   "nbconvert_exporter": "python",
   "pygments_lexer": "ipython3",
   "version": "3.12.1"
  }
 },
 "nbformat": 4,
 "nbformat_minor": 5
}
