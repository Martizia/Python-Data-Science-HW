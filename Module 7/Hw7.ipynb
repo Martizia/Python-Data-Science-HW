{
 "cells": [
  {
   "cell_type": "code",
   "execution_count": 1,
   "id": "d2ebf593-ade8-4087-84b6-97e5da13ba6a",
   "metadata": {},
   "outputs": [],
   "source": [
    "import pandas as pd\n",
    "from surprise import SVD, SVDpp, NMF\n",
    "from surprise import Dataset\n",
    "from surprise.model_selection import cross_validate"
   ]
  },
  {
   "cell_type": "code",
   "execution_count": 2,
   "id": "f1910832-1246-47c3-b43d-9d0ad3b3605f",
   "metadata": {},
   "outputs": [],
   "source": [
    "data = Dataset.load_builtin('ml-100k', prompt=True)"
   ]
  },
  {
   "cell_type": "markdown",
   "id": "62b857b1-7a14-4981-8de9-fb1422911ce2",
   "metadata": {},
   "source": [
    "## SVD"
   ]
  },
  {
   "cell_type": "code",
   "execution_count": 3,
   "id": "ec3b09cf-f7d5-4b52-bc87-4f99bf192c1c",
   "metadata": {},
   "outputs": [
    {
     "name": "stdout",
     "output_type": "stream",
     "text": [
      "Evaluating RMSE, MAE of algorithm SVD on 5 split(s).\n",
      "\n",
      "                  Fold 1  Fold 2  Fold 3  Fold 4  Fold 5  Mean    Std     \n",
      "RMSE (testset)    0.9378  0.9393  0.9373  0.9395  0.9344  0.9376  0.0018  \n",
      "MAE (testset)     0.7411  0.7401  0.7388  0.7396  0.7355  0.7390  0.0019  \n",
      "Fit time          0.80    0.80    0.79    0.79    0.89    0.81    0.04    \n",
      "Test time         0.10    0.09    0.14    0.10    0.09    0.11    0.02    \n"
     ]
    }
   ],
   "source": [
    "algorithm_svd = SVD()\n",
    "result_svd = cross_validate(algorithm_svd, data, measures=['RMSE', 'MAE'], cv=5, verbose=True)\n",
    "result_svd = pd.DataFrame.from_dict(result_svd).mean(axis=0)"
   ]
  },
  {
   "cell_type": "markdown",
   "id": "35bb3210-7200-4155-9eae-6e030ea9a80a",
   "metadata": {},
   "source": [
    "## SVD++"
   ]
  },
  {
   "cell_type": "code",
   "execution_count": 4,
   "id": "7e65df59-b356-4197-acd5-74494693a5cf",
   "metadata": {},
   "outputs": [
    {
     "name": "stdout",
     "output_type": "stream",
     "text": [
      "Evaluating RMSE, MAE of algorithm SVDpp on 5 split(s).\n",
      "\n",
      "                  Fold 1  Fold 2  Fold 3  Fold 4  Fold 5  Mean    Std     \n",
      "RMSE (testset)    0.9151  0.9216  0.9212  0.9184  0.9257  0.9204  0.0035  \n",
      "MAE (testset)     0.7162  0.7212  0.7217  0.7235  0.7267  0.7219  0.0034  \n",
      "Fit time          22.55   23.95   21.60   22.25   21.59   22.39   0.86    \n",
      "Test time         3.89    3.37    3.02    3.04    3.15    3.30    0.32    \n"
     ]
    }
   ],
   "source": [
    "algorithm_svdpp = SVDpp()\n",
    "result_svdpp = cross_validate(algorithm_svdpp, data, measures=['RMSE', 'MAE'], cv=5, verbose=True)\n",
    "result_svdpp = pd.DataFrame.from_dict(result_svdpp).mean(axis=0)"
   ]
  },
  {
   "cell_type": "markdown",
   "id": "ed17eff9-7c5e-499e-a846-de9a261b0eaa",
   "metadata": {},
   "source": [
    "## NMF"
   ]
  },
  {
   "cell_type": "code",
   "execution_count": 5,
   "id": "ca6cc837-7d95-4756-b5a0-66b1d7598ea3",
   "metadata": {},
   "outputs": [
    {
     "name": "stdout",
     "output_type": "stream",
     "text": [
      "Evaluating RMSE, MAE of algorithm NMF on 5 split(s).\n",
      "\n",
      "                  Fold 1  Fold 2  Fold 3  Fold 4  Fold 5  Mean    Std     \n",
      "RMSE (testset)    0.9661  0.9665  0.9679  0.9584  0.9610  0.9640  0.0036  \n",
      "MAE (testset)     0.7620  0.7603  0.7607  0.7515  0.7549  0.7579  0.0040  \n",
      "Fit time          1.46    1.49    1.49    1.50    1.48    1.48    0.01    \n",
      "Test time         0.15    0.08    0.15    0.15    0.08    0.12    0.04    \n"
     ]
    }
   ],
   "source": [
    "algorithm_nmf = NMF()\n",
    "result_nmf = cross_validate(algorithm_nmf, data, measures=['RMSE', 'MAE'], cv=5, verbose=True)\n",
    "result_nmf = pd.DataFrame.from_dict(result_nmf).mean(axis=0)"
   ]
  },
  {
   "cell_type": "markdown",
   "id": "a468c30b-cb41-41c7-a40d-1861b0e960a4",
   "metadata": {},
   "source": [
    "## Aggregated results"
   ]
  },
  {
   "cell_type": "code",
   "execution_count": 6,
   "id": "24454724-21e9-458c-b72e-e20efb333bdc",
   "metadata": {},
   "outputs": [],
   "source": [
    "agg_results = pd.DataFrame(columns=['SVD', 'SVD++', 'NMF'])"
   ]
  },
  {
   "cell_type": "code",
   "execution_count": 7,
   "id": "3f041f2d-e07f-46a2-abc5-448aa6285a07",
   "metadata": {},
   "outputs": [],
   "source": [
    "agg_results['SVD'] = result_svd\n",
    "agg_results['SVD++'] = result_svdpp\n",
    "agg_results['NMF'] = result_nmf"
   ]
  },
  {
   "cell_type": "code",
   "execution_count": 8,
   "id": "b001342e-2b60-43e5-883e-e852ad21c0dc",
   "metadata": {},
   "outputs": [
    {
     "data": {
      "text/html": [
       "<div>\n",
       "<style scoped>\n",
       "    .dataframe tbody tr th:only-of-type {\n",
       "        vertical-align: middle;\n",
       "    }\n",
       "\n",
       "    .dataframe tbody tr th {\n",
       "        vertical-align: top;\n",
       "    }\n",
       "\n",
       "    .dataframe thead th {\n",
       "        text-align: right;\n",
       "    }\n",
       "</style>\n",
       "<table border=\"1\" class=\"dataframe\">\n",
       "  <thead>\n",
       "    <tr style=\"text-align: right;\">\n",
       "      <th></th>\n",
       "      <th>SVD</th>\n",
       "      <th>SVD++</th>\n",
       "      <th>NMF</th>\n",
       "    </tr>\n",
       "  </thead>\n",
       "  <tbody>\n",
       "    <tr>\n",
       "      <th>test_rmse</th>\n",
       "      <td>0.937642</td>\n",
       "      <td>0.920391</td>\n",
       "      <td>0.963977</td>\n",
       "    </tr>\n",
       "    <tr>\n",
       "      <th>test_mae</th>\n",
       "      <td>0.738999</td>\n",
       "      <td>0.721853</td>\n",
       "      <td>0.757888</td>\n",
       "    </tr>\n",
       "    <tr>\n",
       "      <th>fit_time</th>\n",
       "      <td>0.813973</td>\n",
       "      <td>22.388300</td>\n",
       "      <td>1.484180</td>\n",
       "    </tr>\n",
       "    <tr>\n",
       "      <th>test_time</th>\n",
       "      <td>0.105622</td>\n",
       "      <td>3.295496</td>\n",
       "      <td>0.121356</td>\n",
       "    </tr>\n",
       "  </tbody>\n",
       "</table>\n",
       "</div>"
      ],
      "text/plain": [
       "                SVD      SVD++       NMF\n",
       "test_rmse  0.937642   0.920391  0.963977\n",
       "test_mae   0.738999   0.721853  0.757888\n",
       "fit_time   0.813973  22.388300  1.484180\n",
       "test_time  0.105622   3.295496  0.121356"
      ]
     },
     "execution_count": 8,
     "metadata": {},
     "output_type": "execute_result"
    }
   ],
   "source": [
    "agg_results"
   ]
  },
  {
   "cell_type": "markdown",
   "id": "82817271-7cec-4273-82c4-9ce9faccfc07",
   "metadata": {},
   "source": [
    "Виходячи з наданих результатів, можна зробити наступні висновки:\n",
    "\n",
    "1. **Точність моделей**:\n",
    "   - **SVD++** має найнижчий показник RMSE і MAE, що свідчить про те, що це найбільш точна модель серед трьох, які були досліджені.\n",
    "   - **SVD** також демонструє добру точність з RMSE і MAE, але трохи поступається SVD++.\n",
    "   - **NMF** має найвищий показник RMSE і MAE, що вказує на те, що вона менш точна порівняно з SVD та SVD++.\n",
    "\n",
    "\n",
    "2. **Час виконання**:\n",
    "   - **SVD** має найменший час на тренування (fit_time) і найменший час на тестування (test_time), що робить його найшвидшим у цьому аспекті.\n",
    "   - **NMF** також демонструє швидкість у тренуванні і тестуванні, але все ж трохи поступається SVD.\n",
    "   - **SVD++** має значно більший час на тренування і тестування, що робить його найповільнішим серед трьох моделей.\n",
    "\n",
    "\n",
    "3. **Вибір оптимальної моделі**:\n",
    "   - Якщо пріоритетом є точність, то **SVD++** є найкращим вибором завдяки найнижчим значенням RMSE і MAE.\n",
    "   - Якщо важливий баланс між точністю і швидкістю, то **SVD** може бути кращим варіантом, оскільки він майже такий же точний, як SVD++, але значно швидший у виконанні.\n",
    "   - **NMF** може бути вибрана, якщо швидкість є ключовим фактором, але її точність є найнижчою серед досліджених моделей.\n",
    "\n",
    "Отже, оптимальний вибір моделі залежатиме від конкретних потреб та пріоритетів, але загалом, SVD++ демонструє найкращу точність, тоді як SVD пропонує гарний баланс між точністю та швидкістю."
   ]
  },
  {
   "cell_type": "code",
   "execution_count": null,
   "id": "eeed9146-5363-41a3-b14c-3dcd1f50c681",
   "metadata": {},
   "outputs": [],
   "source": []
  }
 ],
 "metadata": {
  "kernelspec": {
   "display_name": "Python 3 (ipykernel)",
   "language": "python",
   "name": "python3"
  },
  "language_info": {
   "codemirror_mode": {
    "name": "ipython",
    "version": 3
   },
   "file_extension": ".py",
   "mimetype": "text/x-python",
   "name": "python",
   "nbconvert_exporter": "python",
   "pygments_lexer": "ipython3",
   "version": "3.12.4"
  }
 },
 "nbformat": 4,
 "nbformat_minor": 5
}
