{
 "cells": [
  {
   "cell_type": "code",
   "execution_count": 2,
   "id": "597637a1-82d2-49aa-a07e-d9f269388d40",
   "metadata": {},
   "outputs": [],
   "source": [
    "import tensorflow as tf\n",
    "from tensorflow.keras import layers, models\n",
    "from tensorflow.keras.applications import VGG16\n",
    "from tensorflow.keras.datasets import fashion_mnist\n",
    "import numpy as np\n",
    "import matplotlib.pyplot as plt"
   ]
  },
  {
   "cell_type": "code",
   "execution_count": 3,
   "id": "e39e2c64-2c05-450d-ac36-d677f55377f1",
   "metadata": {},
   "outputs": [],
   "source": [
    "# Завантаження та підготовка даних\n",
    "(train_images, train_labels), (test_images, test_labels) = fashion_mnist.load_data()\n",
    "train_images = train_images.reshape((train_images.shape[0], 28, 28, 1))\n",
    "test_images = test_images.reshape((test_images.shape[0], 28, 28, 1))\n",
    "train_images, test_images = train_images / 255.0, test_images / 255.0"
   ]
  },
  {
   "cell_type": "code",
   "execution_count": null,
   "id": "182d40a2-3aaa-43f6-b7d1-600f164150b8",
   "metadata": {},
   "outputs": [],
   "source": [
    "# Перетворення зображень на RGB для використання з VGG16\n",
    "train_images_rgb = np.repeat(train_images, 3, axis=-1)\n",
    "test_images_rgb = np.repeat(test_images, 3, axis=-1)\n",
    "\n",
    "train_images_rgb = tf.image.resize(train_images_rgb, [32, 32]).numpy()\n",
    "test_images_rgb = tf.image.resize(test_images_rgb, [32, 32]).numpy()"
   ]
  },
  {
   "cell_type": "code",
   "execution_count": null,
   "id": "8189ef7f-32ad-4f78-b5cd-a3328c911342",
   "metadata": {},
   "outputs": [],
   "source": [
    "# Виділення ознак зображень з використанням VGG16\n",
    "base_model = VGG16(weights='imagenet', include_top=False)\n",
    "model = models.Model(inputs=base_model.input, outputs=base_model.get_layer('block5_pool').output)\n",
    "\n",
    "def extract_features(img_array):\n",
    "    img_array = np.expand_dims(img_array, axis=0)\n",
    "    img_array = tf.keras.applications.vgg16.preprocess_input(img_array)\n",
    "    features = model.predict(img_array)\n",
    "    return features\n",
    "\n",
    "train_features = np.array([extract_features(img) for img in train_images_rgb])\n",
    "train_features = train_features.reshape((train_features.shape[0], -1))\n",
    "\n",
    "test_features = np.array([extract_features(img) for img in test_images_rgb])\n",
    "test_features = test_features.reshape((test_features.shape[0], -1))"
   ]
  },
  {
   "cell_type": "code",
   "execution_count": null,
   "id": "1fb6c689-1164-4f21-91be-bb9851c4148d",
   "metadata": {},
   "outputs": [],
   "source": [
    "# Створення нової моделі на основі виділених ознак\n",
    "new_model = models.Sequential()\n",
    "new_model.add(layers.Flatten(input_shape=(train_features.shape[1],)))\n",
    "new_model.add(layers.Dense(256, activation='relu'))\n",
    "new_model.add(layers.Dropout(0.5))\n",
    "new_model.add(layers.Dense(10, activation='softmax'))"
   ]
  },
  {
   "cell_type": "code",
   "execution_count": 5,
   "id": "c6912881-80c3-4f30-97c7-3a42217212de",
   "metadata": {},
   "outputs": [
    {
     "name": "stdout",
     "output_type": "stream",
     "text": [
      "Downloading data from https://storage.googleapis.com/tensorflow/keras-applications/vgg16/vgg16_weights_tf_dim_ordering_tf_kernels_notop.h5\n",
      "\u001b[1m58889256/58889256\u001b[0m \u001b[32m━━━━━━━━━━━━━━━━━━━━\u001b[0m\u001b[37m\u001b[0m \u001b[1m9s\u001b[0m 0us/step\n"
     ]
    }
   ],
   "source": [
    "# Створення та компіляція моделі VGG16\n",
    "new_model.compile(optimizer='adam', loss='sparse_categorical_crossentropy', metrics=['accuracy'])"
   ]
  },
  {
   "cell_type": "code",
   "execution_count": 6,
   "id": "a753fd23-0a4e-46df-bcea-cbc96dffc922",
   "metadata": {},
   "outputs": [],
   "source": [
    "# Первинне навчання моделі\n",
    "initial_history = new_model.fit(train_features, train_labels, epochs=10, validation_split=0.2, batch_size=64)"
   ]
  },
  {
   "cell_type": "code",
   "execution_count": null,
   "id": "23eae6b5-9f9c-4448-880b-c238e73c6ca6",
   "metadata": {},
   "outputs": [],
   "source": [
    "# Донавчання моделі\n",
    "additional_train_images = np.copy(train_images_rgb)\n",
    "additional_train_labels = np.copy(train_labels)\n",
    "additional_features = np.array([extract_features(img) for img in additional_train_images])\n",
    "additional_features = additional_features.reshape((additional_features.shape[0], -1))\n",
    "\n",
    "new_history = new_model.fit(additional_features, additional_train_labels, epochs=5, validation_split=0.2, batch_size=64)\n"
   ]
  },
  {
   "cell_type": "code",
   "execution_count": null,
   "id": "d8a6a170-9c3d-4ea0-b496-e577ef2bad7d",
   "metadata": {},
   "outputs": [],
   "source": [
    "# Оцінка моделі VGG16\n",
    "test_loss, test_acc = new_model.evaluate(test_features, test_labels, verbose=2)\n",
    "print(f\"\\nТочність нової моделі на тестових даних: {test_acc}\")"
   ]
  },
  {
   "cell_type": "code",
   "execution_count": null,
   "id": "98a4e6e8-792b-42e0-8144-2d7ece4272fd",
   "metadata": {},
   "outputs": [],
   "source": [
    "# Візуалізація результатів\n",
    "plt.figure(figsize=(12, 4))\n",
    "\n",
    "plt.subplot(121)\n",
    "plt.plot(initial_history.history['accuracy'], label='Train Accuracy')\n",
    "plt.plot(initial_history.history['val_accuracy'], label='Validation Accuracy')\n",
    "plt.title('Первинне навчання моделі на основі VGG16 ознак')\n",
    "plt.xlabel('Epoch')\n",
    "plt.ylabel('Accuracy')\n",
    "plt.legend()\n",
    "\n",
    "plt.subplot(122)\n",
    "plt.plot(new_history.history['accuracy'], label='Train Accuracy')\n",
    "plt.plot(new_history.history['val_accuracy'], label='Validation Accuracy')\n",
    "plt.title('Донавчання моделі на основі VGG16 ознак')\n",
    "plt.xlabel('Epoch')\n",
    "plt.ylabel('Accuracy')\n",
    "plt.legend()\n",
    "\n",
    "plt.tight_layout()\n",
    "plt.show()"
   ]
  },
  {
   "cell_type": "code",
   "execution_count": null,
   "id": "f2b1151a-382b-4e25-bb7c-75c3d3d91542",
   "metadata": {},
   "outputs": [],
   "source": []
  }
 ],
 "metadata": {
  "kernelspec": {
   "display_name": "Python 3 (ipykernel)",
   "language": "python",
   "name": "python3"
  },
  "language_info": {
   "codemirror_mode": {
    "name": "ipython",
    "version": 3
   },
   "file_extension": ".py",
   "mimetype": "text/x-python",
   "name": "python",
   "nbconvert_exporter": "python",
   "pygments_lexer": "ipython3",
   "version": "3.12.1"
  }
 },
 "nbformat": 4,
 "nbformat_minor": 5
}
