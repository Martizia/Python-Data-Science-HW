{
 "cells": [
  {
   "cell_type": "code",
   "execution_count": 8,
   "id": "15ca32bb-686a-4180-8918-ca20117eef3c",
   "metadata": {},
   "outputs": [
    {
     "name": "stdout",
     "output_type": "stream",
     "text": [
      "2.17.0\n",
      "/home/martizia/.local/lib/python3.12/site-packages/tensorflow/__init__.py\n",
      "GPU Available:  []\n"
     ]
    }
   ],
   "source": [
    "import tensorflow as tf\n",
    "print(tf.__version__)\n",
    "print(tf.__file__)\n",
    "print(\"GPU Available: \", tf.config.list_physical_devices('GPU'))"
   ]
  },
  {
   "cell_type": "code",
   "execution_count": 1,
   "id": "597637a1-82d2-49aa-a07e-d9f269388d40",
   "metadata": {},
   "outputs": [
    {
     "name": "stderr",
     "output_type": "stream",
     "text": [
      "2024-07-16 22:35:40.086621: E external/local_xla/xla/stream_executor/cuda/cuda_fft.cc:485] Unable to register cuFFT factory: Attempting to register factory for plugin cuFFT when one has already been registered\n",
      "2024-07-16 22:35:40.265977: E external/local_xla/xla/stream_executor/cuda/cuda_dnn.cc:8454] Unable to register cuDNN factory: Attempting to register factory for plugin cuDNN when one has already been registered\n",
      "2024-07-16 22:35:40.309043: E external/local_xla/xla/stream_executor/cuda/cuda_blas.cc:1452] Unable to register cuBLAS factory: Attempting to register factory for plugin cuBLAS when one has already been registered\n",
      "2024-07-16 22:35:40.630635: I tensorflow/core/platform/cpu_feature_guard.cc:210] This TensorFlow binary is optimized to use available CPU instructions in performance-critical operations.\n",
      "To enable the following instructions: AVX2 FMA, in other operations, rebuild TensorFlow with the appropriate compiler flags.\n",
      "2024-07-16 22:35:42.269056: W tensorflow/compiler/tf2tensorrt/utils/py_utils.cc:38] TF-TRT Warning: Could not find TensorRT\n"
     ]
    }
   ],
   "source": [
    "import tensorflow as tf\n",
    "from tensorflow.keras import layers, models\n",
    "from tensorflow.keras.applications import VGG16\n",
    "from tensorflow.keras.datasets import fashion_mnist\n",
    "import matplotlib.pyplot as plt"
   ]
  },
  {
   "cell_type": "code",
   "execution_count": 3,
   "id": "c67d47a0-9ac5-4fc1-8929-e6ff0accb437",
   "metadata": {},
   "outputs": [],
   "source": [
    "# Завантаження та підготовка даних\n",
    "(train_images, train_labels), (test_images, test_labels) = fashion_mnist.load_data()"
   ]
  },
  {
   "cell_type": "code",
   "execution_count": 1,
   "id": "b9850af6-7d60-4874-8d9d-b9f6321c9f9e",
   "metadata": {},
   "outputs": [
    {
     "ename": "NameError",
     "evalue": "name 'tf' is not defined",
     "output_type": "error",
     "traceback": [
      "\u001b[0;31m---------------------------------------------------------------------------\u001b[0m",
      "\u001b[0;31mNameError\u001b[0m                                 Traceback (most recent call last)",
      "Cell \u001b[0;32mIn[1], line 2\u001b[0m\n\u001b[1;32m      1\u001b[0m \u001b[38;5;66;03m# Перетворення зображень у формат RGB (VGG16 очікує 3 канали)\u001b[39;00m\n\u001b[0;32m----> 2\u001b[0m train_images \u001b[38;5;241m=\u001b[39m \u001b[43mtf\u001b[49m\u001b[38;5;241m.\u001b[39mimage\u001b[38;5;241m.\u001b[39mgrayscale_to_rgb(tf\u001b[38;5;241m.\u001b[39mexpand_dims(train_images, \u001b[38;5;241m-\u001b[39m\u001b[38;5;241m1\u001b[39m))\n\u001b[1;32m      3\u001b[0m test_images \u001b[38;5;241m=\u001b[39m tf\u001b[38;5;241m.\u001b[39mimage\u001b[38;5;241m.\u001b[39mgrayscale_to_rgb(tf\u001b[38;5;241m.\u001b[39mexpand_dims(test_images, \u001b[38;5;241m-\u001b[39m\u001b[38;5;241m1\u001b[39m))\n",
      "\u001b[0;31mNameError\u001b[0m: name 'tf' is not defined"
     ]
    }
   ],
   "source": [
    "# Перетворення зображень у формат RGB (VGG16 очікує 3 канали)\n",
    "train_images = tf.image.grayscale_to_rgb(tf.expand_dims(train_images, -1))\n",
    "test_images = tf.image.grayscale_to_rgb(tf.expand_dims(test_images, -1))"
   ]
  },
  {
   "cell_type": "code",
   "execution_count": 6,
   "id": "e710c244-64bf-4bb4-886a-42185a7ff68d",
   "metadata": {},
   "outputs": [
    {
     "name": "stderr",
     "output_type": "stream",
     "text": [
      "2024-07-16 17:48:14.957344: W external/local_tsl/tsl/framework/cpu_allocator_impl.cc:83] Allocation of 1693440000 exceeds 10% of free system memory.\n",
      "2024-07-16 17:48:15.734157: W external/local_tsl/tsl/framework/cpu_allocator_impl.cc:83] Allocation of 1693440000 exceeds 10% of free system memory.\n",
      "2024-07-16 17:48:16.869389: W external/local_tsl/tsl/framework/cpu_allocator_impl.cc:83] Allocation of 282240000 exceeds 10% of free system memory.\n"
     ]
    }
   ],
   "source": [
    "# Перетворення в float32 і нормалізація даних\n",
    "train_images = tf.cast(train_images, tf.float32) / 255.0\n",
    "test_images = tf.cast(test_images, tf.float32) / 255.0"
   ]
  },
  {
   "cell_type": "code",
   "execution_count": 7,
   "id": "ed5d3435-5ef6-41c4-89c5-6db706a6cbcf",
   "metadata": {},
   "outputs": [
    {
     "ename": "ValueError",
     "evalue": "'images' must have either 3 or 4 dimensions.",
     "output_type": "error",
     "traceback": [
      "\u001b[0;31m---------------------------------------------------------------------------\u001b[0m",
      "\u001b[0;31mValueError\u001b[0m                                Traceback (most recent call last)",
      "Cell \u001b[0;32mIn[7], line 2\u001b[0m\n\u001b[1;32m      1\u001b[0m \u001b[38;5;66;03m# Зміна розміру зображень до 32x32 (найменший розмір, який підтримує VGG16)\u001b[39;00m\n\u001b[0;32m----> 2\u001b[0m train_images \u001b[38;5;241m=\u001b[39m \u001b[43mtf\u001b[49m\u001b[38;5;241;43m.\u001b[39;49m\u001b[43mimage\u001b[49m\u001b[38;5;241;43m.\u001b[39;49m\u001b[43mresize\u001b[49m\u001b[43m(\u001b[49m\u001b[43mtrain_images\u001b[49m\u001b[43m,\u001b[49m\u001b[43m \u001b[49m\u001b[43m(\u001b[49m\u001b[38;5;241;43m32\u001b[39;49m\u001b[43m,\u001b[49m\u001b[43m \u001b[49m\u001b[38;5;241;43m32\u001b[39;49m\u001b[43m)\u001b[49m\u001b[43m)\u001b[49m\n\u001b[1;32m      3\u001b[0m test_images \u001b[38;5;241m=\u001b[39m tf\u001b[38;5;241m.\u001b[39mimage\u001b[38;5;241m.\u001b[39mresize(test_images, (\u001b[38;5;241m32\u001b[39m, \u001b[38;5;241m32\u001b[39m))\n",
      "File \u001b[0;32m~/.local/lib/python3.12/site-packages/tensorflow/python/util/traceback_utils.py:153\u001b[0m, in \u001b[0;36mfilter_traceback.<locals>.error_handler\u001b[0;34m(*args, **kwargs)\u001b[0m\n\u001b[1;32m    151\u001b[0m \u001b[38;5;28;01mexcept\u001b[39;00m \u001b[38;5;167;01mException\u001b[39;00m \u001b[38;5;28;01mas\u001b[39;00m e:\n\u001b[1;32m    152\u001b[0m   filtered_tb \u001b[38;5;241m=\u001b[39m _process_traceback_frames(e\u001b[38;5;241m.\u001b[39m__traceback__)\n\u001b[0;32m--> 153\u001b[0m   \u001b[38;5;28;01mraise\u001b[39;00m e\u001b[38;5;241m.\u001b[39mwith_traceback(filtered_tb) \u001b[38;5;28;01mfrom\u001b[39;00m \u001b[38;5;28;01mNone\u001b[39;00m\n\u001b[1;32m    154\u001b[0m \u001b[38;5;28;01mfinally\u001b[39;00m:\n\u001b[1;32m    155\u001b[0m   \u001b[38;5;28;01mdel\u001b[39;00m filtered_tb\n",
      "File \u001b[0;32m~/.local/lib/python3.12/site-packages/tensorflow/python/ops/image_ops_impl.py:1468\u001b[0m, in \u001b[0;36m_resize_images_common\u001b[0;34m(images, resizer_fn, size, preserve_aspect_ratio, name, skip_resize_if_same)\u001b[0m\n\u001b[1;32m   1466\u001b[0m   images \u001b[38;5;241m=\u001b[39m array_ops\u001b[38;5;241m.\u001b[39mexpand_dims(images, \u001b[38;5;241m0\u001b[39m)\n\u001b[1;32m   1467\u001b[0m \u001b[38;5;28;01melif\u001b[39;00m images\u001b[38;5;241m.\u001b[39mget_shape()\u001b[38;5;241m.\u001b[39mndims \u001b[38;5;241m!=\u001b[39m \u001b[38;5;241m4\u001b[39m:\n\u001b[0;32m-> 1468\u001b[0m   \u001b[38;5;28;01mraise\u001b[39;00m \u001b[38;5;167;01mValueError\u001b[39;00m(\u001b[38;5;124m'\u001b[39m\u001b[38;5;130;01m\\'\u001b[39;00m\u001b[38;5;124mimages\u001b[39m\u001b[38;5;130;01m\\'\u001b[39;00m\u001b[38;5;124m must have either 3 or 4 dimensions.\u001b[39m\u001b[38;5;124m'\u001b[39m)\n\u001b[1;32m   1470\u001b[0m _, height, width, _ \u001b[38;5;241m=\u001b[39m images\u001b[38;5;241m.\u001b[39mget_shape()\u001b[38;5;241m.\u001b[39mas_list()\n\u001b[1;32m   1472\u001b[0m \u001b[38;5;28;01mtry\u001b[39;00m:\n",
      "\u001b[0;31mValueError\u001b[0m: 'images' must have either 3 or 4 dimensions."
     ]
    }
   ],
   "source": [
    "# Зміна розміру зображень до 32x32 (найменший розмір, який підтримує VGG16)\n",
    "train_images = tf.image.resize(train_images, (32, 32))\n",
    "test_images = tf.image.resize(test_images, (32, 32))"
   ]
  },
  {
   "cell_type": "code",
   "execution_count": 25,
   "id": "01d305c9-052c-41aa-bf71-430871962a96",
   "metadata": {},
   "outputs": [],
   "source": [
    "# Завантаження VGG16 без верхніх шарів\n",
    "base_model = VGG16(weights='imagenet', include_top=False, input_shape=(32, 32, 3))"
   ]
  },
  {
   "cell_type": "code",
   "execution_count": 27,
   "id": "c2a760b7-9c6a-4229-aceb-18c557df5377",
   "metadata": {},
   "outputs": [],
   "source": [
    "# Заморожування перших шарів (виділення ознак)\n",
    "for layer in base_model.layers[:-4]:\n",
    "    layer.trainable = False"
   ]
  },
  {
   "cell_type": "code",
   "execution_count": 29,
   "id": "efe650da-211e-4373-b00d-daec724545d2",
   "metadata": {},
   "outputs": [],
   "source": [
    "# Створення моделі\n",
    "model = models.Sequential([\n",
    "    base_model,\n",
    "    layers.GlobalAveragePooling2D(),\n",
    "    layers.Dense(256, activation='relu'),\n",
    "    layers.Dropout(0.5),\n",
    "    layers.Dense(10, activation='softmax')\n",
    "])"
   ]
  },
  {
   "cell_type": "code",
   "execution_count": 31,
   "id": "6ee97ffa-2995-4279-a821-bbf4ba64a3ea",
   "metadata": {},
   "outputs": [],
   "source": [
    "# Компіляція моделі\n",
    "model.compile(optimizer=tf.keras.optimizers.Adam(learning_rate=1e-5),\n",
    "              loss='sparse_categorical_crossentropy',\n",
    "              metrics=['accuracy'])"
   ]
  },
  {
   "cell_type": "code",
   "execution_count": 33,
   "id": "dec2c816-b104-429f-8828-8846a389ec62",
   "metadata": {},
   "outputs": [],
   "source": [
    "# Функція для зміни швидкості навчання\n",
    "def scheduler(epoch, lr):\n",
    "    if epoch < 5:\n",
    "        return lr\n",
    "    else:\n",
    "        return lr * tf.math.exp(-0.1)\n",
    "\n",
    "callback = tf.keras.callbacks.LearningRateScheduler(scheduler)"
   ]
  },
  {
   "cell_type": "code",
   "execution_count": null,
   "id": "5f752197-1ad8-4451-a602-3c861001cf8a",
   "metadata": {},
   "outputs": [
    {
     "name": "stdout",
     "output_type": "stream",
     "text": [
      "Epoch 1/15\n",
      "\u001b[1m458/750\u001b[0m \u001b[32m━━━━━━━━━━━━\u001b[0m\u001b[37m━━━━━━━━\u001b[0m \u001b[1m7:50\u001b[0m 2s/step - accuracy: 0.5241 - loss: 1.3858"
     ]
    }
   ],
   "source": [
    "# Тренування моделі\n",
    "history = model.fit(train_images, train_labels, epochs=15, \n",
    "                    validation_split=0.2,\n",
    "                    batch_size=64,\n",
    "                    callbacks=[callback])"
   ]
  },
  {
   "cell_type": "code",
   "execution_count": null,
   "id": "d2c7f340-714f-497a-8627-e3b3c8f18c03",
   "metadata": {},
   "outputs": [],
   "source": [
    "# Розморожування всіх шарів для тонкого налаштування\n",
    "base_model.trainable = True"
   ]
  },
  {
   "cell_type": "code",
   "execution_count": null,
   "id": "af3cce2c-6644-43f9-a00e-be9cea70bd34",
   "metadata": {},
   "outputs": [],
   "source": [
    "# Перекомпіляція моделі\n",
    "model.compile(optimizer=tf.keras.optimizers.Adam(learning_rate=1e-5),\n",
    "              loss='sparse_categorical_crossentropy',\n",
    "              metrics=['accuracy'])"
   ]
  },
  {
   "cell_type": "code",
   "execution_count": null,
   "id": "1d51da7c-63c2-42ba-961f-b41d509a56dc",
   "metadata": {},
   "outputs": [],
   "source": [
    "# Донавчання моделі\n",
    "history_fine = model.fit(train_images, train_labels, epochs=10, \n",
    "                         validation_split=0.2,\n",
    "                         batch_size=32,\n",
    "                         callbacks=[callback])"
   ]
  },
  {
   "cell_type": "code",
   "execution_count": null,
   "id": "655a424c-6cf2-483f-ae7f-dcf9ca7ca6d8",
   "metadata": {},
   "outputs": [],
   "source": [
    "# Оцінка моделі\n",
    "test_loss, test_acc = model.evaluate(test_images, test_labels, verbose=2)\n",
    "print(f'\\nТочність на тестових даних: {test_acc}')"
   ]
  },
  {
   "cell_type": "code",
   "execution_count": null,
   "id": "d2e672d4-90e8-4703-89d7-b881398a9174",
   "metadata": {},
   "outputs": [],
   "source": [
    "# Функція для побудови графіків\n",
    "def plot_learning_curves(history, title_suffix=\"\"):\n",
    "    fig, (ax1, ax2) = plt.subplots(1, 2, figsize=(12, 4))\n",
    "    \n",
    "    # Графік точності\n",
    "    ax1.plot(history.history['accuracy'], label='Тренувальна вибірка')\n",
    "    ax1.plot(history.history['val_accuracy'], label='Валідаційна вибірка')\n",
    "    ax1.set_title(f'Точність моделі {title_suffix}')\n",
    "    ax1.set_ylabel('Точність')\n",
    "    ax1.set_xlabel('Епоха')\n",
    "    ax1.legend()\n",
    "    \n",
    "    # Графік втрат\n",
    "    ax2.plot(history.history['loss'], label='Тренувальна вибірка')\n",
    "    ax2.plot(history.history['val_loss'], label='Валідаційна вибірка')\n",
    "    ax2.set_title(f'Втрати моделі {title_suffix}')\n",
    "    ax2.set_ylabel('Втрати')\n",
    "    ax2.set_xlabel('Епоха')\n",
    "    ax2.legend()\n",
    "    \n",
    "    plt.tight_layout()\n",
    "    plt.show()"
   ]
  },
  {
   "cell_type": "code",
   "execution_count": null,
   "id": "8f0d5fc7-d96f-4929-adb1-57a987dda409",
   "metadata": {},
   "outputs": [],
   "source": [
    "# Побудова графіків для першого етапу навчання\n",
    "plot_learning_curves(history, \"(перший етап)\")"
   ]
  },
  {
   "cell_type": "code",
   "execution_count": null,
   "id": "c91d19ed-d355-470b-b0cf-3fc93f84bd93",
   "metadata": {},
   "outputs": [],
   "source": [
    "# Побудова графіків для етапу тонкого налаштування\n",
    "plot_learning_curves(history_fine, \"(тонке налаштування)\")"
   ]
  }
 ],
 "metadata": {
  "kernelspec": {
   "display_name": "Python 3 (ipykernel)",
   "language": "python",
   "name": "python3"
  },
  "language_info": {
   "codemirror_mode": {
    "name": "ipython",
    "version": 3
   },
   "file_extension": ".py",
   "mimetype": "text/x-python",
   "name": "python",
   "nbconvert_exporter": "python",
   "pygments_lexer": "ipython3",
   "version": "3.12.1"
  }
 },
 "nbformat": 4,
 "nbformat_minor": 5
}
