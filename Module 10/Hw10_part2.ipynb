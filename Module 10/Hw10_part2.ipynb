{
 "cells": [
  {
   "cell_type": "code",
   "execution_count": 13,
   "id": "597637a1-82d2-49aa-a07e-d9f269388d40",
   "metadata": {},
   "outputs": [],
   "source": [
    "import tensorflow as tf\n",
    "from tensorflow.keras import layers, models\n",
    "from tensorflow.keras.applications import VGG16\n",
    "from tensorflow.keras.datasets import fashion_mnist\n",
    "import matplotlib.pyplot as plt"
   ]
  },
  {
   "cell_type": "code",
   "execution_count": 15,
   "id": "c67d47a0-9ac5-4fc1-8929-e6ff0accb437",
   "metadata": {},
   "outputs": [],
   "source": [
    "# Завантаження та підготовка даних\n",
    "(train_images, train_labels), (test_images, test_labels) = fashion_mnist.load_data()"
   ]
  },
  {
   "cell_type": "code",
   "execution_count": 17,
   "id": "b9850af6-7d60-4874-8d9d-b9f6321c9f9e",
   "metadata": {},
   "outputs": [],
   "source": [
    "# Перетворення зображень у формат RGB (VGG16 очікує 3 канали)\n",
    "train_images = tf.image.grayscale_to_rgb(tf.expand_dims(train_images, -1))\n",
    "test_images = tf.image.grayscale_to_rgb(tf.expand_dims(test_images, -1))"
   ]
  },
  {
   "cell_type": "code",
   "execution_count": 21,
   "id": "e710c244-64bf-4bb4-886a-42185a7ff68d",
   "metadata": {},
   "outputs": [],
   "source": [
    "# Перетворення в float32 і нормалізація даних\n",
    "train_images = tf.cast(train_images, tf.float32) / 255.0\n",
    "test_images = tf.cast(test_images, tf.float32) / 255.0"
   ]
  },
  {
   "cell_type": "code",
   "execution_count": 23,
   "id": "ed5d3435-5ef6-41c4-89c5-6db706a6cbcf",
   "metadata": {},
   "outputs": [],
   "source": [
    "# Зміна розміру зображень до 32x32 (найменший розмір, який підтримує VGG16)\n",
    "train_images = tf.image.resize(train_images, (32, 32))\n",
    "test_images = tf.image.resize(test_images, (32, 32))"
   ]
  },
  {
   "cell_type": "code",
   "execution_count": 25,
   "id": "01d305c9-052c-41aa-bf71-430871962a96",
   "metadata": {},
   "outputs": [],
   "source": [
    "# Завантаження VGG16 без верхніх шарів\n",
    "base_model = VGG16(weights='imagenet', include_top=False, input_shape=(32, 32, 3))"
   ]
  },
  {
   "cell_type": "code",
   "execution_count": 27,
   "id": "c2a760b7-9c6a-4229-aceb-18c557df5377",
   "metadata": {},
   "outputs": [],
   "source": [
    "# Заморожування перших шарів (виділення ознак)\n",
    "for layer in base_model.layers[:-4]:\n",
    "    layer.trainable = False"
   ]
  },
  {
   "cell_type": "code",
   "execution_count": 29,
   "id": "efe650da-211e-4373-b00d-daec724545d2",
   "metadata": {},
   "outputs": [],
   "source": [
    "# Створення моделі\n",
    "model = models.Sequential([\n",
    "    base_model,\n",
    "    layers.GlobalAveragePooling2D(),\n",
    "    layers.Dense(256, activation='relu'),\n",
    "    layers.Dropout(0.5),\n",
    "    layers.Dense(10, activation='softmax')\n",
    "])"
   ]
  },
  {
   "cell_type": "code",
   "execution_count": 31,
   "id": "6ee97ffa-2995-4279-a821-bbf4ba64a3ea",
   "metadata": {},
   "outputs": [],
   "source": [
    "# Компіляція моделі\n",
    "model.compile(optimizer=tf.keras.optimizers.Adam(learning_rate=1e-5),\n",
    "              loss='sparse_categorical_crossentropy',\n",
    "              metrics=['accuracy'])"
   ]
  },
  {
   "cell_type": "code",
   "execution_count": 33,
   "id": "dec2c816-b104-429f-8828-8846a389ec62",
   "metadata": {},
   "outputs": [],
   "source": [
    "# Функція для зміни швидкості навчання\n",
    "def scheduler(epoch, lr):\n",
    "    if epoch < 5:\n",
    "        return lr\n",
    "    else:\n",
    "        return lr * tf.math.exp(-0.1)\n",
    "\n",
    "callback = tf.keras.callbacks.LearningRateScheduler(scheduler)"
   ]
  },
  {
   "cell_type": "code",
   "execution_count": null,
   "id": "5f752197-1ad8-4451-a602-3c861001cf8a",
   "metadata": {},
   "outputs": [
    {
     "name": "stdout",
     "output_type": "stream",
     "text": [
      "Epoch 1/15\n",
      "\u001b[1m458/750\u001b[0m \u001b[32m━━━━━━━━━━━━\u001b[0m\u001b[37m━━━━━━━━\u001b[0m \u001b[1m7:50\u001b[0m 2s/step - accuracy: 0.5241 - loss: 1.3858"
     ]
    }
   ],
   "source": [
    "# Тренування моделі\n",
    "history = model.fit(train_images, train_labels, epochs=15, \n",
    "                    validation_split=0.2,\n",
    "                    batch_size=64,\n",
    "                    callbacks=[callback])"
   ]
  },
  {
   "cell_type": "code",
   "execution_count": null,
   "id": "d2c7f340-714f-497a-8627-e3b3c8f18c03",
   "metadata": {},
   "outputs": [],
   "source": [
    "# Розморожування всіх шарів для тонкого налаштування\n",
    "base_model.trainable = True"
   ]
  },
  {
   "cell_type": "code",
   "execution_count": null,
   "id": "af3cce2c-6644-43f9-a00e-be9cea70bd34",
   "metadata": {},
   "outputs": [],
   "source": [
    "# Перекомпіляція моделі\n",
    "model.compile(optimizer=tf.keras.optimizers.Adam(learning_rate=1e-5),\n",
    "              loss='sparse_categorical_crossentropy',\n",
    "              metrics=['accuracy'])"
   ]
  },
  {
   "cell_type": "code",
   "execution_count": null,
   "id": "1d51da7c-63c2-42ba-961f-b41d509a56dc",
   "metadata": {},
   "outputs": [],
   "source": [
    "# Донавчання моделі\n",
    "history_fine = model.fit(train_images, train_labels, epochs=10, \n",
    "                         validation_split=0.2,\n",
    "                         batch_size=32,\n",
    "                         callbacks=[callback])"
   ]
  },
  {
   "cell_type": "code",
   "execution_count": null,
   "id": "655a424c-6cf2-483f-ae7f-dcf9ca7ca6d8",
   "metadata": {},
   "outputs": [],
   "source": [
    "# Оцінка моделі\n",
    "test_loss, test_acc = model.evaluate(test_images, test_labels, verbose=2)\n",
    "print(f'\\nТочність на тестових даних: {test_acc}')"
   ]
  },
  {
   "cell_type": "code",
   "execution_count": null,
   "id": "d2e672d4-90e8-4703-89d7-b881398a9174",
   "metadata": {},
   "outputs": [],
   "source": [
    "# Функція для побудови графіків\n",
    "def plot_learning_curves(history, title_suffix=\"\"):\n",
    "    fig, (ax1, ax2) = plt.subplots(1, 2, figsize=(12, 4))\n",
    "    \n",
    "    # Графік точності\n",
    "    ax1.plot(history.history['accuracy'], label='Тренувальна вибірка')\n",
    "    ax1.plot(history.history['val_accuracy'], label='Валідаційна вибірка')\n",
    "    ax1.set_title(f'Точність моделі {title_suffix}')\n",
    "    ax1.set_ylabel('Точність')\n",
    "    ax1.set_xlabel('Епоха')\n",
    "    ax1.legend()\n",
    "    \n",
    "    # Графік втрат\n",
    "    ax2.plot(history.history['loss'], label='Тренувальна вибірка')\n",
    "    ax2.plot(history.history['val_loss'], label='Валідаційна вибірка')\n",
    "    ax2.set_title(f'Втрати моделі {title_suffix}')\n",
    "    ax2.set_ylabel('Втрати')\n",
    "    ax2.set_xlabel('Епоха')\n",
    "    ax2.legend()\n",
    "    \n",
    "    plt.tight_layout()\n",
    "    plt.show()"
   ]
  },
  {
   "cell_type": "code",
   "execution_count": null,
   "id": "8f0d5fc7-d96f-4929-adb1-57a987dda409",
   "metadata": {},
   "outputs": [],
   "source": [
    "# Побудова графіків для першого етапу навчання\n",
    "plot_learning_curves(history, \"(перший етап)\")"
   ]
  },
  {
   "cell_type": "code",
   "execution_count": null,
   "id": "c91d19ed-d355-470b-b0cf-3fc93f84bd93",
   "metadata": {},
   "outputs": [],
   "source": [
    "# Побудова графіків для етапу тонкого налаштування\n",
    "plot_learning_curves(history_fine, \"(тонке налаштування)\")"
   ]
  }
 ],
 "metadata": {
  "kernelspec": {
   "display_name": "Python 3 (ipykernel)",
   "language": "python",
   "name": "python3"
  },
  "language_info": {
   "codemirror_mode": {
    "name": "ipython",
    "version": 3
   },
   "file_extension": ".py",
   "mimetype": "text/x-python",
   "name": "python",
   "nbconvert_exporter": "python",
   "pygments_lexer": "ipython3",
   "version": "3.12.4"
  }
 },
 "nbformat": 4,
 "nbformat_minor": 5
}
