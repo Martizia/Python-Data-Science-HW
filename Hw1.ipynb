{
 "cells": [
  {
   "cell_type": "code",
   "execution_count": 2,
   "id": "98cb0de6-fef1-40e6-85dd-6f73343a7458",
   "metadata": {},
   "outputs": [],
   "source": [
    "import numpy as np"
   ]
  },
  {
   "cell_type": "code",
   "execution_count": 3,
   "id": "4bb06e04-c3f1-41fc-ad95-ebcd483dcbb5",
   "metadata": {},
   "outputs": [
    {
     "name": "stdout",
     "output_type": "stream",
     "text": [
      "[ 1  2  3  4  5  6  7  8  9 10]\n"
     ]
    }
   ],
   "source": [
    "# 1. Створіть одновимірний масив (вектор) з першими 10-ма натуральними числами та виведіть його значення.\n",
    "\n",
    "vector1 = np.array([1,2,3,4,5,6,7,8,9,10])\n",
    "print(vector1)"
   ]
  },
  {
   "cell_type": "code",
   "execution_count": 4,
   "id": "b16297b7-e6d7-4a64-a6a9-c640f834b44c",
   "metadata": {},
   "outputs": [
    {
     "name": "stdout",
     "output_type": "stream",
     "text": [
      "[[0 0 0]\n",
      " [0 0 0]\n",
      " [0 0 0]]\n"
     ]
    }
   ],
   "source": [
    "# 2. Створіть двовимірний масив (матрицю) розміром 3x3, заповніть його нулями та виведіть його значення.\n",
    "\n",
    "zeros = np.zeros((3, 3), dtype=int)\n",
    "print(zeros)"
   ]
  },
  {
   "cell_type": "code",
   "execution_count": 5,
   "id": "107b7688-a213-470e-afec-b70967fc9ccc",
   "metadata": {},
   "outputs": [
    {
     "name": "stdout",
     "output_type": "stream",
     "text": [
      "[[ 5 10  6  9  2]\n",
      " [ 9  5 10  1  8]\n",
      " [ 5  5  8  6  5]\n",
      " [ 1  5  9  8  5]\n",
      " [ 2  7  1  7  9]]\n"
     ]
    }
   ],
   "source": [
    "# 3. Створіть масив розміром 5x5, заповніть його випадковими цілими числами в діапазоні від 1 до 10 та виведіть його значення.\n",
    "\n",
    "matrix3 = np.random.randint(1, 11, size=(5, 5))  \n",
    "print(matrix3)"
   ]
  },
  {
   "cell_type": "code",
   "execution_count": 6,
   "id": "edb3dea5-8f51-4f95-95a2-f1990592ee03",
   "metadata": {},
   "outputs": [
    {
     "name": "stdout",
     "output_type": "stream",
     "text": [
      "[[0.16569343 0.54309346 0.77776337 0.21581317]\n",
      " [0.3624302  0.89181277 0.9223246  0.49111659]\n",
      " [0.46984127 0.66529093 0.46089667 0.77208015]\n",
      " [0.90927991 0.83147073 0.21083575 0.50438371]]\n"
     ]
    }
   ],
   "source": [
    "# 4. Створіть масив розміром 4x4, заповніть його випадковими дійсними числами в діапазоні від 0 до 1 та виведіть його значення.\n",
    "\n",
    "matrix4 = np.random.rand(4, 4)\n",
    "print(matrix4)"
   ]
  },
  {
   "cell_type": "code",
   "execution_count": 7,
   "id": "2a280697-08ad-4fe4-bbf6-e0468722b23c",
   "metadata": {},
   "outputs": [
    {
     "name": "stdout",
     "output_type": "stream",
     "text": [
      "[6 9 8 8 6]\n",
      "[10  7 10  2  5]\n",
      "[16 16 18 10 11]\n",
      "[-4  2 -2  6  1]\n",
      "[60 63 80 16 30]\n"
     ]
    }
   ],
   "source": [
    "# 5. Створіть два одновимірних масиви розміром 5, заповніть їх випадковими цілими числами в діапазоні від 1 до 10 \n",
    "# та виконайте на них поелементні операції додавання, віднімання та множення.\n",
    "\n",
    "vector5_1 = np.random.randint(1, 11, size=5)\n",
    "vector5_2 = np.random.randint(1, 11, size=5)\n",
    "print(vector5_1)\n",
    "print(vector5_2)\n",
    "print(vector5_1 + vector5_2)\n",
    "print(vector5_1 - vector5_2)\n",
    "print(vector5_1 * vector5_2)"
   ]
  },
  {
   "cell_type": "code",
   "execution_count": 8,
   "id": "e7baf969-3ebd-4837-b3e6-0d6922d82161",
   "metadata": {},
   "outputs": [
    {
     "name": "stdout",
     "output_type": "stream",
     "text": [
      "[10  8 10  2  2  7 10]\n",
      "[ 9  2  5 10  8  3  4]\n",
      "253\n"
     ]
    }
   ],
   "source": [
    "# 6. Створіть два вектори розміром 7, заповніть довільними числами та знайдіть їх скалярний добуток.\n",
    "\n",
    "vector6_1 = np.random.randint(1, 11, size=7)\n",
    "vector6_2 = np.random.randint(1, 11, size=7)\n",
    "print(vector6_1)\n",
    "print(vector6_2)\n",
    "print(np.dot(vector6_1, vector6_2))"
   ]
  },
  {
   "cell_type": "code",
   "execution_count": 9,
   "id": "a1f14d9e-dac3-4c59-8b5f-35202ff1f797",
   "metadata": {},
   "outputs": [
    {
     "name": "stdout",
     "output_type": "stream",
     "text": [
      "[[ 3  9]\n",
      " [10  6]]\n",
      "[[10  6 10]\n",
      " [ 2  7  7]]\n",
      "[[ 48  81  93]\n",
      " [112 102 142]]\n"
     ]
    }
   ],
   "source": [
    "# 7. Створіть дві матриці розміром 2x2 та 2x3, заповніть їх випадковими цілими числами в діапазоні від 1 до 10 та перемножте їх між собою.\n",
    "\n",
    "matrix7_1 = np.random.randint(1, 11, size=(2, 2)) \n",
    "matrix7_2 = np.random.randint(1, 11, size=(2, 3)) \n",
    "print(matrix7_1)\n",
    "print(matrix7_2)\n",
    "print(np.dot(matrix7_1, matrix7_2))"
   ]
  },
  {
   "cell_type": "code",
   "execution_count": 10,
   "id": "f450340c-8dce-47eb-8003-22aac4e326b5",
   "metadata": {},
   "outputs": [
    {
     "name": "stdout",
     "output_type": "stream",
     "text": [
      "[[ 2  7  7]\n",
      " [ 2  6  5]\n",
      " [ 2  3 10]]\n",
      "[[-2.04545455  2.22727273  0.31818182]\n",
      " [ 0.45454545 -0.27272727 -0.18181818]\n",
      " [ 0.27272727 -0.36363636  0.09090909]]\n"
     ]
    }
   ],
   "source": [
    "# 8. Створіть матрицю розміром 3x3, заповніть її випадковими цілими числами в діапазоні від 1 до 10 та знайдіть її обернену матрицю.\n",
    "\n",
    "matrix8 = np.random.randint(1, 11, size=(3, 3)) \n",
    "print(matrix8)\n",
    "inv1 = np.linalg.inv(matrix8)\n",
    "print(inv1)"
   ]
  },
  {
   "cell_type": "code",
   "execution_count": 11,
   "id": "289350a6-af24-4e4b-87da-289c4755a0ab",
   "metadata": {},
   "outputs": [
    {
     "name": "stdout",
     "output_type": "stream",
     "text": [
      "[[0.51468983 0.62380632 0.78239137 0.03472148]\n",
      " [0.06157996 0.43726546 0.32881624 0.5507673 ]\n",
      " [0.55150486 0.94681418 0.65038643 0.82176019]\n",
      " [0.18194399 0.98611851 0.43927288 0.1732478 ]]\n",
      "[[0.51468983 0.06157996 0.55150486 0.18194399]\n",
      " [0.62380632 0.43726546 0.94681418 0.98611851]\n",
      " [0.78239137 0.32881624 0.65038643 0.43927288]\n",
      " [0.03472148 0.5507673  0.82176019 0.1732478 ]]\n"
     ]
    }
   ],
   "source": [
    "# 9. Створіть матрицю розміром 4x4, заповніть її випадковими дійсними числами в діапазоні від 0 до 1 та транспонуйте її.\n",
    "\n",
    "matrix9 = np.random.rand(4, 4)\n",
    "print(matrix9)\n",
    "inv2 = matrix9.T\n",
    "print(inv2)"
   ]
  },
  {
   "cell_type": "code",
   "execution_count": 12,
   "id": "432921bf-01db-477a-a03f-8db6250efcd7",
   "metadata": {},
   "outputs": [
    {
     "name": "stdout",
     "output_type": "stream",
     "text": [
      "[[3 9 2 3]\n",
      " [4 5 2 4]\n",
      " [9 9 5 9]]\n",
      "[ 1  2  9 10]\n",
      "[ 69  72 162]\n"
     ]
    }
   ],
   "source": [
    "# 10. Створіть матрицю розміром 3x4 та вектор розміром 4, заповніть їх випадковими цілими числами \n",
    "# в діапазоні від 1 до 10 та перемножте матрицю на вектор.\n",
    "\n",
    "matrix10 = np.random.randint(1, 11, size=(3, 4)) \n",
    "vector10 = np.random.randint(1, 11, size=4)\n",
    "print(matrix10)\n",
    "print(vector10)\n",
    "print(np.dot(matrix10, vector10))"
   ]
  },
  {
   "cell_type": "code",
   "execution_count": 13,
   "id": "1dd7c135-db51-43fa-b09c-866635c16507",
   "metadata": {
    "scrolled": true
   },
   "outputs": [
    {
     "name": "stdout",
     "output_type": "stream",
     "text": [
      "[[0.56225493 0.01144101 0.85756616]\n",
      " [0.97846427 0.56367305 0.54105644]]\n",
      "[0.01584309 0.76653911 0.20312516]\n",
      "[0.1918711  0.55748151]\n"
     ]
    }
   ],
   "source": [
    "# 11. Створіть матрицю розміром 2x3 та вектор розміром 3, заповніть їх випадковими дійсними числами \n",
    "# в діапазоні від 0 до 1 та перемножте матрицю на вектор.\n",
    "\n",
    "matrix11 = np.random.rand(2, 3)\n",
    "vector11 = np.random.rand(3)\n",
    "print(matrix11)\n",
    "print(vector11)\n",
    "print(np.dot(matrix11, vector11))"
   ]
  },
  {
   "cell_type": "code",
   "execution_count": 14,
   "id": "d7e860fc-a0db-4574-b447-c158cc5b4c11",
   "metadata": {},
   "outputs": [
    {
     "name": "stdout",
     "output_type": "stream",
     "text": [
      "[[6 7]\n",
      " [9 3]]\n",
      "[[1 6]\n",
      " [6 1]]\n",
      "[[ 6 42]\n",
      " [54  3]]\n"
     ]
    }
   ],
   "source": [
    "# 12. Створіть дві матриці розміром 2x2, заповніть їх випадковими цілими числами в діапазоні від 1 до 10 \n",
    "# та виконайте їхнє поелементне множення.\n",
    "\n",
    "matrix12_1 = np.random.randint(1, 11, size=(2, 2))\n",
    "matrix12_2 = np.random.randint(1, 11, size=(2, 2))\n",
    "print(matrix12_1)\n",
    "print(matrix12_2)\n",
    "print(matrix12_1 * matrix12_2)"
   ]
  },
  {
   "cell_type": "code",
   "execution_count": 15,
   "id": "2dbd4236-c633-4cc4-9637-b0f6fc20174b",
   "metadata": {},
   "outputs": [
    {
     "name": "stdout",
     "output_type": "stream",
     "text": [
      "[[ 6 10]\n",
      " [ 9 10]]\n",
      "[[3 5]\n",
      " [3 4]]\n",
      "[[ 9 15]\n",
      " [12 14]]\n"
     ]
    }
   ],
   "source": [
    "# 13. Створіть дві матриці розміром 2x2, заповніть їх випадковими цілими числами в діапазоні від 1 до 10 та знайдіть їх добуток.\n",
    "\n",
    "matrix13_1 = np.random.randint(1, 11, size=(2, 2))\n",
    "matrix13_2 = np.random.randint(1, 11, size=(2, 2))\n",
    "print(matrix13_1)\n",
    "print(matrix13_2)\n",
    "print(matrix13_1 + matrix13_2)"
   ]
  },
  {
   "cell_type": "code",
   "execution_count": 16,
   "id": "078ae2be-961e-46ba-82e0-0eeb876e0a85",
   "metadata": {},
   "outputs": [
    {
     "name": "stdout",
     "output_type": "stream",
     "text": [
      "[[100  12  99  42  74]\n",
      " [ 69  84  78  90   1]\n",
      " [ 23  74  76  33  67]\n",
      " [ 83  49  24  20  57]\n",
      " [ 47  30  37  41  25]]\n",
      "1335\n"
     ]
    }
   ],
   "source": [
    "# 14. Створіть матрицю розміром 5x5, заповніть її випадковими цілими числами в діапазоні від 1 до 100 та знайдіть суму елементів матриці.\n",
    "\n",
    "matrix14 = np.random.randint(1, 101, size=(5, 5))\n",
    "print(matrix14)\n",
    "print(matrix14.sum())"
   ]
  },
  {
   "cell_type": "code",
   "execution_count": 17,
   "id": "c5bfa0b3-cf4a-4718-a78e-dba6241a8335",
   "metadata": {},
   "outputs": [
    {
     "name": "stdout",
     "output_type": "stream",
     "text": [
      "[[ 6  9  3  9]\n",
      " [ 5  7 10  1]\n",
      " [ 3  4  2  1]\n",
      " [ 4  8  4  9]]\n",
      "[[ 8  9  2  2]\n",
      " [ 5  4  2 10]\n",
      " [ 6  3  6  4]\n",
      " [ 9  4  9  7]]\n",
      "[[-2  0  1  7]\n",
      " [ 0  3  8 -9]\n",
      " [-3  1 -4 -3]\n",
      " [-5  4 -5  2]]\n"
     ]
    }
   ],
   "source": [
    "# 15. Створіть дві матриці розміром 4x4, заповніть їх випадковими цілими числами в діапазоні від 1 до 10 та знайдіть їхню різницю.\n",
    "\n",
    "matrix15_1 = np.random.randint(1, 11, size=(4, 4))\n",
    "matrix15_2 = np.random.randint(1, 11, size=(4, 4))\n",
    "print(matrix15_1)\n",
    "print(matrix15_2)\n",
    "print(matrix15_1 - matrix15_2)"
   ]
  },
  {
   "cell_type": "code",
   "execution_count": 3,
   "id": "ef10aa65-46f9-418b-88c4-1359badeeb15",
   "metadata": {},
   "outputs": [
    {
     "name": "stdout",
     "output_type": "stream",
     "text": [
      "[[0.58205168 0.24083441 0.46208265]\n",
      " [0.32867121 0.80748284 0.66640202]\n",
      " [0.94144053 0.2205714  0.00365358]]\n",
      "[[1.28496874]\n",
      " [1.80255607]\n",
      " [1.16566551]]\n",
      "(3, 1)\n"
     ]
    }
   ],
   "source": [
    "# 16. Створіть матрицю розміром 3x3, заповніть її випадковими дійсними числами в діапазоні від 0 до 1 \n",
    "# та знайдіть вектор-стовпчик, що містить суму елементів кожного рядка матриці.\n",
    "\n",
    "matrix16 = np.random.rand(3, 3)\n",
    "print(matrix16)\n",
    "matrix16_1 = np.sum(matrix16, axis=1).reshape(-1,1)\n",
    "print(matrix16_1)\n",
    "print(matrix16_1.shape)"
   ]
  },
  {
   "cell_type": "code",
   "execution_count": 19,
   "id": "acb70e08-100a-4b2d-b78d-350166bbe352",
   "metadata": {},
   "outputs": [
    {
     "name": "stdout",
     "output_type": "stream",
     "text": [
      "[[3 2 9 3]\n",
      " [7 8 8 7]\n",
      " [8 5 1 2]]\n",
      "[[ 9  4 81  9]\n",
      " [49 64 64 49]\n",
      " [64 25  1  4]]\n"
     ]
    }
   ],
   "source": [
    "# 17. Створіть матрицю розміром 3x4 з довільними цілими числами і створіть матрицю з квадратами цих чисел.\n",
    "\n",
    "matrix17 = np.random.randint(1, 11, size=(3, 4))\n",
    "print(matrix17)\n",
    "print(np.square(matrix17))"
   ]
  },
  {
   "cell_type": "code",
   "execution_count": 20,
   "id": "5b1e7685-03ad-4a82-8b13-4e3818ca828a",
   "metadata": {},
   "outputs": [
    {
     "name": "stdout",
     "output_type": "stream",
     "text": [
      "[37 32 35 24]\n",
      "[6.08276253 5.65685425 5.91607978 4.89897949]\n"
     ]
    }
   ],
   "source": [
    "# 18. Створіть вектор розміром 4, заповніть його випадковими цілими числами в діапазоні від 1 до 50 \n",
    "# та знайдіть вектор з квадратними коренями цих чисел.\n",
    "\n",
    "vector18 = np.random.randint(1, 51, size=4)\n",
    "print(vector18)\n",
    "print(np.sqrt(vector18))"
   ]
  },
  {
   "cell_type": "code",
   "execution_count": null,
   "id": "2e336560-7d18-4c13-b170-5bfd4aa26e68",
   "metadata": {},
   "outputs": [],
   "source": []
  }
 ],
 "metadata": {
  "kernelspec": {
   "display_name": "Python 3 (ipykernel)",
   "language": "python",
   "name": "python3"
  },
  "language_info": {
   "codemirror_mode": {
    "name": "ipython",
    "version": 3
   },
   "file_extension": ".py",
   "mimetype": "text/x-python",
   "name": "python",
   "nbconvert_exporter": "python",
   "pygments_lexer": "ipython3",
   "version": "3.11.7"
  }
 },
 "nbformat": 4,
 "nbformat_minor": 5
}
