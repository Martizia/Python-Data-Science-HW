{
 "cells": [
  {
   "cell_type": "code",
   "execution_count": 1,
   "id": "7a9e2884-7932-4712-a8a1-6fb015640cb0",
   "metadata": {},
   "outputs": [],
   "source": [
    "%matplotlib inline\n",
    "\n",
    "import pandas as pd\n",
    "import numpy as np"
   ]
  },
  {
   "cell_type": "code",
   "execution_count": 2,
   "id": "a4d20345-803f-4a3d-8b85-df1d61f10c28",
   "metadata": {},
   "outputs": [
    {
     "data": {
      "text/html": [
       "<div>\n",
       "<style scoped>\n",
       "    .dataframe tbody tr th:only-of-type {\n",
       "        vertical-align: middle;\n",
       "    }\n",
       "\n",
       "    .dataframe tbody tr th {\n",
       "        vertical-align: top;\n",
       "    }\n",
       "\n",
       "    .dataframe thead th {\n",
       "        text-align: right;\n",
       "    }\n",
       "</style>\n",
       "<table border=\"1\" class=\"dataframe\">\n",
       "  <thead>\n",
       "    <tr style=\"text-align: right;\">\n",
       "      <th></th>\n",
       "      <th>Name</th>\n",
       "      <th>Author</th>\n",
       "      <th>User Rating</th>\n",
       "      <th>Reviews</th>\n",
       "      <th>Price</th>\n",
       "      <th>Year</th>\n",
       "      <th>Genre</th>\n",
       "    </tr>\n",
       "  </thead>\n",
       "  <tbody>\n",
       "    <tr>\n",
       "      <th>0</th>\n",
       "      <td>10-Day Green Smoothie Cleanse</td>\n",
       "      <td>JJ Smith</td>\n",
       "      <td>4.7</td>\n",
       "      <td>17350</td>\n",
       "      <td>8</td>\n",
       "      <td>2016</td>\n",
       "      <td>Non Fiction</td>\n",
       "    </tr>\n",
       "    <tr>\n",
       "      <th>1</th>\n",
       "      <td>11/22/63: A Novel</td>\n",
       "      <td>Stephen King</td>\n",
       "      <td>4.6</td>\n",
       "      <td>2052</td>\n",
       "      <td>22</td>\n",
       "      <td>2011</td>\n",
       "      <td>Fiction</td>\n",
       "    </tr>\n",
       "    <tr>\n",
       "      <th>2</th>\n",
       "      <td>12 Rules for Life: An Antidote to Chaos</td>\n",
       "      <td>Jordan B. Peterson</td>\n",
       "      <td>4.7</td>\n",
       "      <td>18979</td>\n",
       "      <td>15</td>\n",
       "      <td>2018</td>\n",
       "      <td>Non Fiction</td>\n",
       "    </tr>\n",
       "    <tr>\n",
       "      <th>3</th>\n",
       "      <td>1984 (Signet Classics)</td>\n",
       "      <td>George Orwell</td>\n",
       "      <td>4.7</td>\n",
       "      <td>21424</td>\n",
       "      <td>6</td>\n",
       "      <td>2017</td>\n",
       "      <td>Fiction</td>\n",
       "    </tr>\n",
       "    <tr>\n",
       "      <th>4</th>\n",
       "      <td>5,000 Awesome Facts (About Everything!) (Natio...</td>\n",
       "      <td>National Geographic Kids</td>\n",
       "      <td>4.8</td>\n",
       "      <td>7665</td>\n",
       "      <td>12</td>\n",
       "      <td>2019</td>\n",
       "      <td>Non Fiction</td>\n",
       "    </tr>\n",
       "  </tbody>\n",
       "</table>\n",
       "</div>"
      ],
      "text/plain": [
       "                                                Name  \\\n",
       "0                      10-Day Green Smoothie Cleanse   \n",
       "1                                  11/22/63: A Novel   \n",
       "2            12 Rules for Life: An Antidote to Chaos   \n",
       "3                             1984 (Signet Classics)   \n",
       "4  5,000 Awesome Facts (About Everything!) (Natio...   \n",
       "\n",
       "                     Author  User Rating  Reviews  Price  Year        Genre  \n",
       "0                  JJ Smith          4.7    17350      8  2016  Non Fiction  \n",
       "1              Stephen King          4.6     2052     22  2011      Fiction  \n",
       "2        Jordan B. Peterson          4.7    18979     15  2018  Non Fiction  \n",
       "3             George Orwell          4.7    21424      6  2017      Fiction  \n",
       "4  National Geographic Kids          4.8     7665     12  2019  Non Fiction  "
      ]
     },
     "execution_count": 2,
     "metadata": {},
     "output_type": "execute_result"
    }
   ],
   "source": [
    "books = pd.read_csv(\"bestsellers with categories.csv\")\n",
    "books.head(5)"
   ]
  },
  {
   "cell_type": "code",
   "execution_count": 3,
   "id": "a25f143f-9db1-4816-ad06-97c0e09f942e",
   "metadata": {},
   "outputs": [
    {
     "data": {
      "text/plain": [
       "(550, 7)"
      ]
     },
     "execution_count": 3,
     "metadata": {},
     "output_type": "execute_result"
    }
   ],
   "source": [
    "books.shape"
   ]
  },
  {
   "cell_type": "code",
   "execution_count": 5,
   "id": "3f6f6ef7-f809-426b-89f5-30e3f25383d7",
   "metadata": {},
   "outputs": [],
   "source": [
    "# Про скільки книг зберігає дані датасет?\n",
    "# Відповідь: 550"
   ]
  },
  {
   "cell_type": "code",
   "execution_count": 8,
   "id": "73f61391-7515-4420-97f8-1fa1a2d29a98",
   "metadata": {},
   "outputs": [
    {
     "data": {
      "text/html": [
       "<div>\n",
       "<style scoped>\n",
       "    .dataframe tbody tr th:only-of-type {\n",
       "        vertical-align: middle;\n",
       "    }\n",
       "\n",
       "    .dataframe tbody tr th {\n",
       "        vertical-align: top;\n",
       "    }\n",
       "\n",
       "    .dataframe thead th {\n",
       "        text-align: right;\n",
       "    }\n",
       "</style>\n",
       "<table border=\"1\" class=\"dataframe\">\n",
       "  <thead>\n",
       "    <tr style=\"text-align: right;\">\n",
       "      <th></th>\n",
       "      <th>name</th>\n",
       "      <th>author</th>\n",
       "      <th>user_rating</th>\n",
       "      <th>reviews</th>\n",
       "      <th>price</th>\n",
       "      <th>year</th>\n",
       "      <th>genre</th>\n",
       "    </tr>\n",
       "  </thead>\n",
       "  <tbody>\n",
       "    <tr>\n",
       "      <th>0</th>\n",
       "      <td>10-Day Green Smoothie Cleanse</td>\n",
       "      <td>JJ Smith</td>\n",
       "      <td>4.7</td>\n",
       "      <td>17350</td>\n",
       "      <td>8</td>\n",
       "      <td>2016</td>\n",
       "      <td>Non Fiction</td>\n",
       "    </tr>\n",
       "    <tr>\n",
       "      <th>1</th>\n",
       "      <td>11/22/63: A Novel</td>\n",
       "      <td>Stephen King</td>\n",
       "      <td>4.6</td>\n",
       "      <td>2052</td>\n",
       "      <td>22</td>\n",
       "      <td>2011</td>\n",
       "      <td>Fiction</td>\n",
       "    </tr>\n",
       "  </tbody>\n",
       "</table>\n",
       "</div>"
      ],
      "text/plain": [
       "                            name        author  user_rating  reviews  price  \\\n",
       "0  10-Day Green Smoothie Cleanse      JJ Smith          4.7    17350      8   \n",
       "1              11/22/63: A Novel  Stephen King          4.6     2052     22   \n",
       "\n",
       "   year        genre  \n",
       "0  2016  Non Fiction  \n",
       "1  2011      Fiction  "
      ]
     },
     "execution_count": 8,
     "metadata": {},
     "output_type": "execute_result"
    }
   ],
   "source": [
    "books.columns = ['name', 'author', 'user_rating', 'reviews', 'price', 'year', 'genre']\n",
    "books.head(2)"
   ]
  },
  {
   "cell_type": "code",
   "execution_count": null,
   "id": "eaac4db1-3de1-46ad-bdc6-c6bee7966ad1",
   "metadata": {},
   "outputs": [],
   "source": [
    "# Первинне дослідження даних"
   ]
  },
  {
   "cell_type": "code",
   "execution_count": 10,
   "id": "134ad270-e6ff-443f-9876-fbaf71c7b5a6",
   "metadata": {},
   "outputs": [
    {
     "data": {
      "text/plain": [
       "name           0.0\n",
       "author         0.0\n",
       "user_rating    0.0\n",
       "reviews        0.0\n",
       "price          0.0\n",
       "year           0.0\n",
       "genre          0.0\n",
       "dtype: float64"
      ]
     },
     "execution_count": 10,
     "metadata": {},
     "output_type": "execute_result"
    }
   ],
   "source": [
    "missing_percentages = (books.isnull().sum() / len(books)) * 100\n",
    "missing_percentages"
   ]
  },
  {
   "cell_type": "code",
   "execution_count": 11,
   "id": "66fd2cdc-a66e-48ee-a10c-130f0f562526",
   "metadata": {},
   "outputs": [],
   "source": [
    "# Чи є в якихось змінних пропуски? (Так / ні)\n",
    "# Відповідь: ні"
   ]
  },
  {
   "cell_type": "code",
   "execution_count": 13,
   "id": "1397f324-92fe-496e-9ceb-823d795e0e8f",
   "metadata": {},
   "outputs": [
    {
     "data": {
      "text/plain": [
       "array(['Non Fiction', 'Fiction'], dtype=object)"
      ]
     },
     "execution_count": 13,
     "metadata": {},
     "output_type": "execute_result"
    }
   ],
   "source": [
    "unique_genre = books['genre'].unique()\n",
    "unique_genre"
   ]
  },
  {
   "cell_type": "code",
   "execution_count": 14,
   "id": "f51ee0e4-060a-4517-b967-278a7cfd0eff",
   "metadata": {},
   "outputs": [],
   "source": [
    "# Які є унікальні жанри?\n",
    "# Відповідь: 'Non Fiction' та 'Fiction'"
   ]
  },
  {
   "cell_type": "code",
   "execution_count": 24,
   "id": "b6c4025f-ab28-4780-9c2e-533a6178712c",
   "metadata": {},
   "outputs": [
    {
     "data": {
      "image/png": "[encoded data removed]",
      "text/plain": [
       "<Figure size 1000x600 with 1 Axes>"
      ]
     },
     "metadata": {},
     "output_type": "display_data"
    }
   ],
   "source": [
    "import matplotlib.pyplot as plt\n",
    "\n",
    "books['price'].hist(bins=50, figsize=(10,6), color='#a140de', edgecolor='black')\n",
    "\n",
    "plt.title('Розподіл цін')\n",
    "plt.xlabel('Ціна')\n",
    "plt.ylabel('Кількість')\n",
    "\n",
    "plt.show()"
   ]
  },
  {
   "cell_type": "code",
   "execution_count": 26,
   "id": "4bf6a2a7-9d0f-4886-aeee-3418622e28ec",
   "metadata": {},
   "outputs": [
    {
     "name": "stdout",
     "output_type": "stream",
     "text": [
      "Максимальна ціна: 105\n",
      "Мінімальна ціна: 0\n",
      "Середня ціна: 13.1\n",
      "Медіанна ціна: 11.0\n"
     ]
    }
   ],
   "source": [
    "max_price = books['price'].max()\n",
    "print(f\"Максимальна ціна: {max_price}\")\n",
    "\n",
    "min_price = books['price'].min()\n",
    "print(f\"Мінімальна ціна: {min_price}\")\n",
    "\n",
    "mean_price = books['price'].mean()\n",
    "print(f\"Середня ціна: {mean_price}\")\n",
    "\n",
    "median_price = books['price'].median()\n",
    "print(f\"Медіанна ціна: {median_price}\")"
   ]
  },
  {
   "cell_type": "code",
   "execution_count": 27,
   "id": "0219701f-45c1-4f3a-a193-0dbfc590f92a",
   "metadata": {},
   "outputs": [],
   "source": [
    "# Максимальна ціна?\n",
    "# Відповідь: 105\n",
    "# Мінімальна ціна?\n",
    "# Відповідь: 0\n",
    "# Середня ціна?\n",
    "# Відповідь: 13,1\n",
    "# Медіанна ціна?\n",
    "# Відповідь: 11"
   ]
  },
  {
   "cell_type": "code",
   "execution_count": 28,
   "id": "b548ea75-3051-48f2-a305-c832f5702270",
   "metadata": {},
   "outputs": [],
   "source": [
    "# Пошук та сортування даних"
   ]
  },
  {
   "cell_type": "code",
   "execution_count": 29,
   "id": "78184919-28ca-4842-b9ac-3b377e4e2c7e",
   "metadata": {},
   "outputs": [
    {
     "data": {
      "text/plain": [
       "4.9"
      ]
     },
     "execution_count": 29,
     "metadata": {},
     "output_type": "execute_result"
    }
   ],
   "source": [
    "max_rating = books['user_rating'].max()\n",
    "max_rating"
   ]
  },
  {
   "cell_type": "code",
   "execution_count": 30,
   "id": "304dd790-91cb-4be8-b76f-54f772886ba2",
   "metadata": {},
   "outputs": [],
   "source": [
    "# Який рейтинг у датасеті найвищий? \n",
    "# Відповідь: 4,9"
   ]
  },
  {
   "cell_type": "code",
   "execution_count": 43,
   "id": "5ec56905-8357-41c1-913e-ef3cb023fc5f",
   "metadata": {},
   "outputs": [
    {
     "data": {
      "text/plain": [
       "52"
      ]
     },
     "execution_count": 43,
     "metadata": {},
     "output_type": "execute_result"
    }
   ],
   "source": [
    "max_rating_count = books[books['user_rating'] == 4.9]\n",
    "\n",
    "max_rating_count.shape[0]"
   ]
  },
  {
   "cell_type": "code",
   "execution_count": 44,
   "id": "3b52f9de-4633-458f-a980-645170dc5990",
   "metadata": {},
   "outputs": [],
   "source": [
    "# Скільки книг мають такий рейтинг? \n",
    "# Відповідь: 52"
   ]
  },
  {
   "cell_type": "code",
   "execution_count": 47,
   "id": "113b289e-4054-4648-9de5-41da99f2d87b",
   "metadata": {},
   "outputs": [
    {
     "data": {
      "text/html": [
       "<div>\n",
       "<style scoped>\n",
       "    .dataframe tbody tr th:only-of-type {\n",
       "        vertical-align: middle;\n",
       "    }\n",
       "\n",
       "    .dataframe tbody tr th {\n",
       "        vertical-align: top;\n",
       "    }\n",
       "\n",
       "    .dataframe thead th {\n",
       "        text-align: right;\n",
       "    }\n",
       "</style>\n",
       "<table border=\"1\" class=\"dataframe\">\n",
       "  <thead>\n",
       "    <tr style=\"text-align: right;\">\n",
       "      <th></th>\n",
       "      <th>name</th>\n",
       "      <th>author</th>\n",
       "      <th>user_rating</th>\n",
       "      <th>reviews</th>\n",
       "      <th>price</th>\n",
       "      <th>year</th>\n",
       "      <th>genre</th>\n",
       "    </tr>\n",
       "  </thead>\n",
       "  <tbody>\n",
       "    <tr>\n",
       "      <th>534</th>\n",
       "      <td>Where the Crawdads Sing</td>\n",
       "      <td>Delia Owens</td>\n",
       "      <td>4.8</td>\n",
       "      <td>87841</td>\n",
       "      <td>15</td>\n",
       "      <td>2019</td>\n",
       "      <td>Fiction</td>\n",
       "    </tr>\n",
       "  </tbody>\n",
       "</table>\n",
       "</div>"
      ],
      "text/plain": [
       "                        name       author  user_rating  reviews  price  year  \\\n",
       "534  Where the Crawdads Sing  Delia Owens          4.8    87841     15  2019   \n",
       "\n",
       "       genre  \n",
       "534  Fiction  "
      ]
     },
     "execution_count": 47,
     "metadata": {},
     "output_type": "execute_result"
    }
   ],
   "source": [
    "max_reviews = books['reviews'].max()\n",
    "max_reviews_book = books[books['reviews'] == max_reviews]\n",
    "max_reviews_book"
   ]
  },
  {
   "cell_type": "code",
   "execution_count": 59,
   "id": "0cf0b63f-ecf2-4c32-b6a1-674fac3f3b89",
   "metadata": {},
   "outputs": [],
   "source": [
    "# Яка книга має найбільше відгуків? \n",
    "# Відповідь: Where the Crawdads Sing"
   ]
  },
  {
   "cell_type": "code",
   "execution_count": 58,
   "id": "872d75a0-2ccf-418f-8511-a90d4ff214aa",
   "metadata": {},
   "outputs": [
    {
     "data": {
      "text/html": [
       "<div>\n",
       "<style scoped>\n",
       "    .dataframe tbody tr th:only-of-type {\n",
       "        vertical-align: middle;\n",
       "    }\n",
       "\n",
       "    .dataframe tbody tr th {\n",
       "        vertical-align: top;\n",
       "    }\n",
       "\n",
       "    .dataframe thead th {\n",
       "        text-align: right;\n",
       "    }\n",
       "</style>\n",
       "<table border=\"1\" class=\"dataframe\">\n",
       "  <thead>\n",
       "    <tr style=\"text-align: right;\">\n",
       "      <th></th>\n",
       "      <th>name</th>\n",
       "      <th>author</th>\n",
       "      <th>user_rating</th>\n",
       "      <th>reviews</th>\n",
       "      <th>price</th>\n",
       "      <th>year</th>\n",
       "      <th>genre</th>\n",
       "    </tr>\n",
       "  </thead>\n",
       "  <tbody>\n",
       "    <tr>\n",
       "      <th>277</th>\n",
       "      <td>Publication Manual of the American Psychologic...</td>\n",
       "      <td>American Psychological Association</td>\n",
       "      <td>4.5</td>\n",
       "      <td>8580</td>\n",
       "      <td>46</td>\n",
       "      <td>2015</td>\n",
       "      <td>Non Fiction</td>\n",
       "    </tr>\n",
       "  </tbody>\n",
       "</table>\n",
       "</div>"
      ],
      "text/plain": [
       "                                                  name  \\\n",
       "277  Publication Manual of the American Psychologic...   \n",
       "\n",
       "                                 author  user_rating  reviews  price  year  \\\n",
       "277  American Psychological Association          4.5     8580     46  2015   \n",
       "\n",
       "           genre  \n",
       "277  Non Fiction  "
      ]
     },
     "execution_count": 58,
     "metadata": {},
     "output_type": "execute_result"
    }
   ],
   "source": [
    "year_2015 = books[books['year'] == 2015]\n",
    "year_2015_most_expencive = year_2015[year_2015['price'] == year_2015['price'].max()]\n",
    "year_2015_most_expencive"
   ]
  },
  {
   "cell_type": "code",
   "execution_count": 60,
   "id": "9d1bfbef-1c41-4f0f-b023-ce2273066407",
   "metadata": {},
   "outputs": [],
   "source": [
    "# З тих книг, що потрапили до Топ-50 у 2015 році, яка книга найдорожча (можна використати проміжний датафрейм)? \n",
    "# Відповідь: Publication Manual of the American Psychological Association, 6th Edition"
   ]
  },
  {
   "cell_type": "code",
   "execution_count": null,
   "id": "a379b035-e34c-43ea-96de-f1df6034680a",
   "metadata": {},
   "outputs": [],
   "source": []
  }
 ],
 "metadata": {
  "kernelspec": {
   "display_name": "Python 3 (ipykernel)",
   "language": "python",
   "name": "python3"
  },
  "language_info": {
   "codemirror_mode": {
    "name": "ipython",
    "version": 3
   },
   "file_extension": ".py",
   "mimetype": "text/x-python",
   "name": "python",
   "nbconvert_exporter": "python",
   "pygments_lexer": "ipython3",
   "version": "3.12.1"
  }
 },
 "nbformat": 4,
 "nbformat_minor": 5
}
