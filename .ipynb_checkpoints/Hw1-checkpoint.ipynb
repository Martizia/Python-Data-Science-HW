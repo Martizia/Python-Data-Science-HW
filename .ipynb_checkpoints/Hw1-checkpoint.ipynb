{
 "cells": [
  {
   "cell_type": "code",
   "execution_count": 2,
   "id": "98cb0de6-fef1-40e6-85dd-6f73343a7458",
   "metadata": {},
   "outputs": [],
   "source": [
    "import numpy as np"
   ]
  },
  {
   "cell_type": "code",
   "execution_count": 78,
   "id": "4bb06e04-c3f1-41fc-ad95-ebcd483dcbb5",
   "metadata": {},
   "outputs": [
    {
     "name": "stdout",
     "output_type": "stream",
     "text": [
      "[ 1  2  3  4  5  6  7  8  9 10]\n"
     ]
    }
   ],
   "source": [
    "# 1. Створіть одновимірний масив (вектор) з першими 10-ма натуральними числами та виведіть його значення.\n",
    "\n",
    "vector1 = np.array([1,2,3,4,5,6,7,8,9,10])\n",
    "print(vector1)"
   ]
  },
  {
   "cell_type": "code",
   "execution_count": 4,
   "id": "b16297b7-e6d7-4a64-a6a9-c640f834b44c",
   "metadata": {},
   "outputs": [
    {
     "name": "stdout",
     "output_type": "stream",
     "text": [
      "[[0 0 0]\n",
      " [0 0 0]\n",
      " [0 0 0]]\n"
     ]
    }
   ],
   "source": [
    "# 2. Створіть двовимірний масив (матрицю) розміром 3x3, заповніть його нулями та виведіть його значення.\n",
    "\n",
    "zeros = np.zeros((3, 3), dtype=int)\n",
    "print(zeros)"
   ]
  },
  {
   "cell_type": "code",
   "execution_count": 57,
   "id": "107b7688-a213-470e-afec-b70967fc9ccc",
   "metadata": {},
   "outputs": [
    {
     "name": "stdout",
     "output_type": "stream",
     "text": [
      "[[ 1  2 10  9  3]\n",
      " [10  6  8  8  6]\n",
      " [ 5  7  3  7  6]\n",
      " [ 9 10  3  3  5]\n",
      " [ 1  3 10  8  6]]\n"
     ]
    }
   ],
   "source": [
    "# 3. Створіть масив розміром 5x5, заповніть його випадковими цілими числами в діапазоні від 1 до 10 та виведіть його значення.\n",
    "\n",
    "matrix3 = np.random.randint(1, 11, size=(5, 5))  \n",
    "print(matrix3)"
   ]
  },
  {
   "cell_type": "code",
   "execution_count": 54,
   "id": "edb3dea5-8f51-4f95-95a2-f1990592ee03",
   "metadata": {},
   "outputs": [
    {
     "name": "stdout",
     "output_type": "stream",
     "text": [
      "[[0.12922388 0.78516551 0.74650768 0.94846544]\n",
      " [0.07653743 0.47208483 0.1572763  0.37971692]\n",
      " [0.35598787 0.90684297 0.21907976 0.65823628]\n",
      " [0.41351159 0.14190402 0.47907264 0.30446278]]\n"
     ]
    }
   ],
   "source": [
    "# 4. Створіть масив розміром 4x4, заповніть його випадковими дійсними числами в діапазоні від 0 до 1 та виведіть його значення.\n",
    "\n",
    "matrix4 = np.random.rand(4, 4)\n",
    "print(matrix4)"
   ]
  },
  {
   "cell_type": "code",
   "execution_count": 77,
   "id": "2a280697-08ad-4fe4-bbf6-e0468722b23c",
   "metadata": {},
   "outputs": [
    {
     "name": "stdout",
     "output_type": "stream",
     "text": [
      "[8 1 9 4 9]\n",
      "[6 5 8 4 4]\n",
      "[14  6 17  8 13]\n",
      "[ 2 -4  1  0  5]\n",
      "[48  5 72 16 36]\n"
     ]
    }
   ],
   "source": [
    "# 5. Створіть два одновимірних масиви розміром 5, заповніть їх випадковими цілими числами в діапазоні від 1 до 10 \n",
    "# та виконайте на них поелементні операції додавання, віднімання та множення.\n",
    "\n",
    "vector5_1 = np.random.randint(1, 11, size=5)\n",
    "vector5_2 = np.random.randint(1, 11, size=5)\n",
    "print(vector5_1)\n",
    "print(vector5_2)\n",
    "print(vector5_1 + vector5_2)\n",
    "print(vector5_1 - vector5_2)\n",
    "print(vector5_1 * vector5_2)"
   ]
  },
  {
   "cell_type": "code",
   "execution_count": 76,
   "id": "e7baf969-3ebd-4837-b3e6-0d6922d82161",
   "metadata": {},
   "outputs": [
    {
     "name": "stdout",
     "output_type": "stream",
     "text": [
      "[10  7  1  2  3  7  9]\n",
      "[8 8 7 3 3 4 1]\n",
      "195\n"
     ]
    }
   ],
   "source": [
    "# 6. Створіть два вектори розміром 7, заповніть довільними числами та знайдіть їх скалярний добуток.\n",
    "\n",
    "vector6_1 = np.random.randint(1, 11, size=7)\n",
    "vector6_2 = np.random.randint(1, 11, size=7)\n",
    "print(vector6_1)\n",
    "print(vector6_2)\n",
    "print(np.dot(vector6_1, vector6_2))"
   ]
  },
  {
   "cell_type": "code",
   "execution_count": 75,
   "id": "a1f14d9e-dac3-4c59-8b5f-35202ff1f797",
   "metadata": {},
   "outputs": [
    {
     "name": "stdout",
     "output_type": "stream",
     "text": [
      "[[ 8  2]\n",
      " [10  1]]\n",
      "[[5 3 3]\n",
      " [5 2 2]]\n",
      "[[50 28 28]\n",
      " [55 32 32]]\n"
     ]
    }
   ],
   "source": [
    "# 7. Створіть дві матриці розміром 2x2 та 2x3, заповніть їх випадковими цілими числами в діапазоні від 1 до 10 та перемножте їх між собою.\n",
    "\n",
    "matrix7_1 = np.random.randint(1, 11, size=(2, 2)) \n",
    "matrix7_2 = np.random.randint(1, 11, size=(2, 3)) \n",
    "print(matrix7_1)\n",
    "print(matrix7_2)\n",
    "print(np.dot(matrix7_1, matrix7_2))"
   ]
  },
  {
   "cell_type": "code",
   "execution_count": 61,
   "id": "f450340c-8dce-47eb-8003-22aac4e326b5",
   "metadata": {},
   "outputs": [
    {
     "name": "stdout",
     "output_type": "stream",
     "text": [
      "[[ 7 10 10]\n",
      " [ 9 10  1]\n",
      " [ 5  1  2]]\n",
      "[[-0.04668305  0.02457002  0.22113022]\n",
      " [ 0.03194103  0.08845209 -0.2039312 ]\n",
      " [ 0.1007371  -0.10565111  0.04914005]]\n"
     ]
    }
   ],
   "source": [
    "# 8. Створіть матрицю розміром 3x3, заповніть її випадковими цілими числами в діапазоні від 1 до 10 та знайдіть її обернену матрицю.\n",
    "\n",
    "matrix8 = np.random.randint(1, 11, size=(3, 3)) \n",
    "print(matrix8)\n",
    "inv1 = np.linalg.inv(matrix8)\n",
    "print(inv1)"
   ]
  },
  {
   "cell_type": "code",
   "execution_count": 39,
   "id": "289350a6-af24-4e4b-87da-289c4755a0ab",
   "metadata": {},
   "outputs": [
    {
     "name": "stdout",
     "output_type": "stream",
     "text": [
      "[[0.71858152 0.27072838 0.24197996 0.73868792]\n",
      " [0.5500335  0.00507181 0.37906773 0.21240329]\n",
      " [0.06981624 0.95981956 0.61194683 0.06072411]\n",
      " [0.64751198 0.28947838 0.07704421 0.9049024 ]]\n",
      "[[ 30.44565452 -11.8943674   -1.90970177 -21.93327103]\n",
      " [ 18.70575082  -8.91472768  -0.21736917 -13.16274019]\n",
      " [-30.31338874  14.33302296   2.06791219  21.24226968]\n",
      " [-25.18875556  10.1426296    1.25997874  19.20183939]]\n"
     ]
    }
   ],
   "source": [
    "# 9. Створіть матрицю розміром 4x4, заповніть її випадковими дійсними числами в діапазоні від 0 до 1 та транспонуйте її.\n",
    "\n",
    "matrix9 = np.random.rand(4, 4)\n",
    "print(matrix9)\n",
    "inv2 = np.linalg.inv(matrix9)\n",
    "print(inv2)"
   ]
  },
  {
   "cell_type": "code",
   "execution_count": 62,
   "id": "432921bf-01db-477a-a03f-8db6250efcd7",
   "metadata": {},
   "outputs": [
    {
     "name": "stdout",
     "output_type": "stream",
     "text": [
      "[[ 7  1  6  2]\n",
      " [ 1  5 10  7]\n",
      " [ 9  8  3  4]]\n",
      "[ 9  7  8 10]\n",
      "[138 194 201]\n"
     ]
    }
   ],
   "source": [
    "# 10. Створіть матрицю розміром 3x4 та вектор розміром 4, заповніть їх випадковими цілими числами \n",
    "# в діапазоні від 1 до 10 та перемножте матрицю на вектор.\n",
    "\n",
    "matrix10 = np.random.randint(1, 11, size=(3, 4)) \n",
    "vector10 = np.random.randint(1, 11, size=4)\n",
    "print(matrix10)\n",
    "print(vector10)\n",
    "print(np.dot(matrix10, vector10))"
   ]
  },
  {
   "cell_type": "code",
   "execution_count": 74,
   "id": "1dd7c135-db51-43fa-b09c-866635c16507",
   "metadata": {
    "scrolled": true
   },
   "outputs": [
    {
     "name": "stdout",
     "output_type": "stream",
     "text": [
      "[[0.70879845 0.85009215 0.32569412]\n",
      " [0.78985854 0.62867572 0.44910831]]\n",
      "[0.63044113 0.75217844 0.72918636]\n",
      "[1.3237684  1.29831928]\n"
     ]
    }
   ],
   "source": [
    "# 11. Створіть матрицю розміром 2x3 та вектор розміром 3, заповніть їх випадковими дійсними числами \n",
    "# в діапазоні від 0 до 1 та перемножте матрицю на вектор.\n",
    "\n",
    "matrix11 = np.random.rand(2, 3)\n",
    "vector11 = np.random.rand(3)\n",
    "print(matrix11)\n",
    "print(vector11)\n",
    "print(np.dot(matrix11, vector11))"
   ]
  },
  {
   "cell_type": "code",
   "execution_count": 63,
   "id": "d7e860fc-a0db-4574-b447-c158cc5b4c11",
   "metadata": {},
   "outputs": [
    {
     "name": "stdout",
     "output_type": "stream",
     "text": [
      "[[8 6]\n",
      " [5 5]]\n",
      "[[6 2]\n",
      " [5 9]]\n",
      "[[48 12]\n",
      " [25 45]]\n"
     ]
    }
   ],
   "source": [
    "# 12. Створіть дві матриці розміром 2x2, заповніть їх випадковими цілими числами в діапазоні від 1 до 10 \n",
    "# та виконайте їхнє поелементне множення.\n",
    "\n",
    "matrix12_1 = np.random.randint(1, 11, size=(2, 2))\n",
    "matrix12_2 = np.random.randint(1, 11, size=(2, 2))\n",
    "print(matrix12_1)\n",
    "print(matrix12_2)\n",
    "print(matrix12_1 * matrix12_2)"
   ]
  },
  {
   "cell_type": "code",
   "execution_count": 64,
   "id": "2dbd4236-c633-4cc4-9637-b0f6fc20174b",
   "metadata": {},
   "outputs": [
    {
     "name": "stdout",
     "output_type": "stream",
     "text": [
      "[[10  9]\n",
      " [ 3  9]]\n",
      "[[4 4]\n",
      " [1 4]]\n",
      "[[14 13]\n",
      " [ 4 13]]\n"
     ]
    }
   ],
   "source": [
    "# 13. Створіть дві матриці розміром 2x2, заповніть їх випадковими цілими числами в діапазоні від 1 до 10 та знайдіть їх добуток.\n",
    "\n",
    "matrix13_1 = np.random.randint(1, 11, size=(2, 2))\n",
    "matrix13_2 = np.random.randint(1, 11, size=(2, 2))\n",
    "print(matrix13_1)\n",
    "print(matrix13_2)\n",
    "print(matrix13_1 + matrix13_2)"
   ]
  },
  {
   "cell_type": "code",
   "execution_count": 65,
   "id": "078ae2be-961e-46ba-82e0-0eeb876e0a85",
   "metadata": {},
   "outputs": [
    {
     "name": "stdout",
     "output_type": "stream",
     "text": [
      "[[71 97 84 79 81]\n",
      " [62  5 69 70 52]\n",
      " [33 77 24 68 56]\n",
      " [95 24 86 22 57]\n",
      " [43 90 90 89 49]]\n",
      "1573\n"
     ]
    }
   ],
   "source": [
    "# 14. Створіть матрицю розміром 5x5, заповніть її випадковими цілими числами в діапазоні від 1 до 100 та знайдіть суму елементів матриці.\n",
    "\n",
    "matrix14 = np.random.randint(1, 101, size=(5, 5))\n",
    "print(matrix14)\n",
    "print(matrix14.sum())"
   ]
  },
  {
   "cell_type": "code",
   "execution_count": 66,
   "id": "c5bfa0b3-cf4a-4718-a78e-dba6241a8335",
   "metadata": {},
   "outputs": [
    {
     "name": "stdout",
     "output_type": "stream",
     "text": [
      "[[ 6  4  5  2]\n",
      " [ 7  4  8  1]\n",
      " [ 8  2 10  8]\n",
      " [ 2  2  1  7]]\n",
      "[[ 4  4  2  6]\n",
      " [ 6  9  6 10]\n",
      " [ 7  7  7  6]\n",
      " [ 1  4  3  8]]\n",
      "[[ 2  0  3 -4]\n",
      " [ 1 -5  2 -9]\n",
      " [ 1 -5  3  2]\n",
      " [ 1 -2 -2 -1]]\n"
     ]
    }
   ],
   "source": [
    "# 15. Створіть дві матриці розміром 4x4, заповніть їх випадковими цілими числами в діапазоні від 1 до 10 та знайдіть їхню різницю.\n",
    "\n",
    "matrix15_1 = np.random.randint(1, 11, size=(4, 4))\n",
    "matrix15_2 = np.random.randint(1, 11, size=(4, 4))\n",
    "print(matrix15_1)\n",
    "print(matrix15_2)\n",
    "print(matrix15_1 - matrix15_2)"
   ]
  },
  {
   "cell_type": "code",
   "execution_count": 51,
   "id": "ef10aa65-46f9-418b-88c4-1359badeeb15",
   "metadata": {},
   "outputs": [
    {
     "name": "stdout",
     "output_type": "stream",
     "text": [
      "[[0.1295087  0.02406087 0.37682014]\n",
      " [0.23889138 0.74003018 0.61587187]\n",
      " [0.67309157 0.22170672 0.49342013]]\n",
      "[0.53038972 1.59479343 1.38821842]\n"
     ]
    }
   ],
   "source": [
    "# 16. Створіть матрицю розміром 3x3, заповніть її випадковими дійсними числами в діапазоні від 0 до 1 \n",
    "# та знайдіть вектор-стовпчик, що містить суму елементів кожного рядка матриці.\n",
    "\n",
    "matrix16 = np.random.rand(3, 3)\n",
    "print(matrix16)\n",
    "print(np.sum(matrix16, axis=1))"
   ]
  },
  {
   "cell_type": "code",
   "execution_count": 68,
   "id": "acb70e08-100a-4b2d-b78d-350166bbe352",
   "metadata": {},
   "outputs": [
    {
     "name": "stdout",
     "output_type": "stream",
     "text": [
      "[[ 4  5  9  4]\n",
      " [ 5  6  3  6]\n",
      " [ 7 10  8  9]]\n",
      "[[ 16  25  81  16]\n",
      " [ 25  36   9  36]\n",
      " [ 49 100  64  81]]\n"
     ]
    }
   ],
   "source": [
    "# 17. Створіть матрицю розміром 3x4 з довільними цілими числами і створіть матрицю з квадратами цих чисел.\n",
    "\n",
    "matrix17 = np.random.randint(1, 11, size=(3, 4))\n",
    "print(matrix17)\n",
    "print(np.square(matrix17))"
   ]
  },
  {
   "cell_type": "code",
   "execution_count": 73,
   "id": "5b1e7685-03ad-4a82-8b13-4e3818ca828a",
   "metadata": {},
   "outputs": [
    {
     "name": "stdout",
     "output_type": "stream",
     "text": [
      "[ 3  8  4 19]\n",
      "[1.73205081 2.82842712 2.         4.35889894]\n"
     ]
    }
   ],
   "source": [
    "# 18. Створіть вектор розміром 4, заповніть його випадковими цілими числами в діапазоні від 1 до 50 \n",
    "# та знайдіть вектор з квадратними коренями цих чисел.\n",
    "\n",
    "vector18 = np.random.randint(1, 51, size=4)\n",
    "print(vector18)\n",
    "print(np.sqrt(vector18))"
   ]
  },
  {
   "cell_type": "code",
   "execution_count": null,
   "id": "2e336560-7d18-4c13-b170-5bfd4aa26e68",
   "metadata": {},
   "outputs": [],
   "source": []
  }
 ],
 "metadata": {
  "kernelspec": {
   "display_name": "Python 3 (ipykernel)",
   "language": "python",
   "name": "python3"
  },
  "language_info": {
   "codemirror_mode": {
    "name": "ipython",
    "version": 3
   },
   "file_extension": ".py",
   "mimetype": "text/x-python",
   "name": "python",
   "nbconvert_exporter": "python",
   "pygments_lexer": "ipython3",
   "version": "3.11.8"
  }
 },
 "nbformat": 4,
 "nbformat_minor": 5
}
