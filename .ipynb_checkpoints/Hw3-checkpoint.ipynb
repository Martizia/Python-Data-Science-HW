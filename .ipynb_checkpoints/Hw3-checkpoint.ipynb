{
 "cells": [
  {
   "cell_type": "code",
   "execution_count": 11,
   "id": "0ec9a42c-879d-41ff-88eb-b54ad6862137",
   "metadata": {},
   "outputs": [],
   "source": [
    "import numpy as np\n",
    "\n",
    "def hypothesis(X, w):\n",
    "    return np.dot(X, w)"
   ]
  },
  {
   "cell_type": "code",
   "execution_count": 12,
   "id": "035b6a48-7720-4ea5-8161-d5c97dda930b",
   "metadata": {},
   "outputs": [],
   "source": [
    "def compute_loss(X, y, w):\n",
    "    m = len(y)\n",
    "    h = hypothesis(X, w)\n",
    "    return (1/(2*m)) * np.sum((h - y)**2)"
   ]
  },
  {
   "cell_type": "code",
   "execution_count": 13,
   "id": "24e5c520-e9e7-4fe9-8073-3c2735231340",
   "metadata": {},
   "outputs": [],
   "source": [
    "def gradient_descent_step(X, y, w, learning_rate):\n",
    "    m = len(y)\n",
    "    h = hypothesis(X, w)\n",
    "    gradient = np.dot(X.T, (h - y)) / m\n",
    "    w -= learning_rate * gradient\n",
    "    return w"
   ]
  },
  {
   "cell_type": "code",
   "execution_count": 14,
   "id": "83741f76-4de3-4beb-9655-74cb15c51685",
   "metadata": {},
   "outputs": [],
   "source": [
    "import pandas as pd\n",
    "\n",
    "url = 'https://drive.google.com/uc?id=1-rAa4XT4_fI0dOBlMNuE6a7jB0wln_Qo'\n",
    "data = pd.read_csv(url)\n",
    "\n",
    "# Припустимо, що дані містять стовпці: ['area', 'bathrooms', 'bedrooms', 'price']\n",
    "X = data[['area', 'bathrooms', 'bedrooms']].values\n",
    "y = data['price'].values\n",
    "\n",
    "# Додавання стовпця з одиницями для вільного члена\n",
    "X = np.c_[np.ones(X.shape[0]), X]\n"
   ]
  },
  {
   "cell_type": "code",
   "execution_count": 22,
   "id": "25afa779-9dd2-4863-a932-60a800041efd",
   "metadata": {},
   "outputs": [
    {
     "name": "stderr",
     "output_type": "stream",
     "text": [
      "/tmp/ipykernel_2957/3698418756.py:5: RuntimeWarning: invalid value encountered in subtract\n",
      "  w -= learning_rate * gradient\n"
     ]
    },
    {
     "name": "stdout",
     "output_type": "stream",
     "text": [
      "Parameters found by gradient descent: [nan nan nan nan]\n"
     ]
    }
   ],
   "source": [
    "# Ініціалізація параметрів\n",
    "w = np.zeros(X.shape[1])\n",
    "learning_rate = 0.001\n",
    "iterations = 100000\n",
    "\n",
    "# Градієнтний спуск\n",
    "for i in range(iterations):\n",
    "    w = gradient_descent_step(X, y, w, learning_rate)\n",
    "\n",
    "print(\"Parameters found by gradient descent:\", w)\n"
   ]
  },
  {
   "cell_type": "code",
   "execution_count": 23,
   "id": "19752994-c005-4b19-8c55-a59d532d969e",
   "metadata": {},
   "outputs": [
    {
     "name": "stdout",
     "output_type": "stream",
     "text": [
      "Parameters found by normal equation: [-1.73171608e+05  3.78762754e+02  1.38604950e+06  4.06820034e+05]\n"
     ]
    }
   ],
   "source": [
    "def normal_equation(X, y):\n",
    "    return np.linalg.inv(X.T.dot(X)).dot(X.T).dot(y)\n",
    "\n",
    "w_analytical = normal_equation(X, y)\n",
    "print(\"Parameters found by normal equation:\", w_analytical)\n"
   ]
  },
  {
   "cell_type": "code",
   "execution_count": 24,
   "id": "d47ab83f-028a-4156-bf86-686d342228fb",
   "metadata": {},
   "outputs": [
    {
     "name": "stdout",
     "output_type": "stream",
     "text": [
      "Parameters found by gradient descent: [nan nan nan nan]\n",
      "Parameters found by normal equation: [-1.73171608e+05  3.78762754e+02  1.38604950e+06  4.06820034e+05]\n"
     ]
    }
   ],
   "source": [
    "print(\"Parameters found by gradient descent:\", w)\n",
    "print(\"Parameters found by normal equation:\", w_analytical)\n"
   ]
  },
  {
   "cell_type": "code",
   "execution_count": null,
   "id": "b9a413a0-3438-4b43-979b-0caa6dc662ae",
   "metadata": {},
   "outputs": [],
   "source": []
  }
 ],
 "metadata": {
  "kernelspec": {
   "display_name": "Python 3 (ipykernel)",
   "language": "python",
   "name": "python3"
  },
  "language_info": {
   "codemirror_mode": {
    "name": "ipython",
    "version": 3
   },
   "file_extension": ".py",
   "mimetype": "text/x-python",
   "name": "python",
   "nbconvert_exporter": "python",
   "pygments_lexer": "ipython3",
   "version": "3.12.1"
  }
 },
 "nbformat": 4,
 "nbformat_minor": 5
}
